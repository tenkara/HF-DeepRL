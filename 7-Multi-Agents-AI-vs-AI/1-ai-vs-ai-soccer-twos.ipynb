{
 "cells": [
  {
   "cell_type": "code",
   "execution_count": 1,
   "metadata": {},
   "outputs": [
    {
     "name": "stdout",
     "output_type": "stream",
     "text": [
      "Cloning into 'ml-agents'...\n",
      "remote: Enumerating objects: 90265, done.\u001b[K\n",
      "remote: Counting objects: 100% (1161/1161), done.\u001b[K\n",
      "remote: Compressing objects: 100% (521/521), done.\u001b[K\n",
      "remote: Total 90265 (delta 665), reused 971 (delta 571), pack-reused 89104\u001b[K\n",
      "Receiving objects: 100% (90265/90265), 2.87 GiB | 10.96 MiB/s, done.\n",
      "Resolving deltas: 100% (65796/65796), done.\n"
     ]
    }
   ],
   "source": [
    "! git clone https://github.com/Unity-Technologies/ml-agents"
   ]
  },
  {
   "cell_type": "code",
   "execution_count": 3,
   "metadata": {},
   "outputs": [
    {
     "name": "stdout",
     "output_type": "stream",
     "text": [
      "/home/raj/repos/HF-DeepRL/7-Multi-Agents-AI-vs-AI/ml-agents\n"
     ]
    },
    {
     "name": "stdout",
     "output_type": "stream",
     "text": [
      "Obtaining file:///home/raj/repos/HF-DeepRL/7-Multi-Agents-AI-vs-AI/ml-agents/ml-agents-envs\n",
      "  Preparing metadata (setup.py) ... \u001b[?25ldone\n",
      "\u001b[?25hRequirement already satisfied: cloudpickle in /home/raj/anaconda3/envs/rl/lib/python3.9/site-packages (from mlagents-envs==0.31.0.dev0) (2.2.1)\n",
      "Requirement already satisfied: grpcio>=1.11.0 in /home/raj/anaconda3/envs/rl/lib/python3.9/site-packages (from mlagents-envs==0.31.0.dev0) (1.56.0)\n",
      "Requirement already satisfied: Pillow>=4.2.1 in /home/raj/anaconda3/envs/rl/lib/python3.9/site-packages (from mlagents-envs==0.31.0.dev0) (10.0.0)\n",
      "Requirement already satisfied: protobuf<3.20,>=3.6 in /home/raj/anaconda3/envs/rl/lib/python3.9/site-packages (from mlagents-envs==0.31.0.dev0) (3.19.6)\n",
      "Requirement already satisfied: pyyaml>=3.1.0 in /home/raj/anaconda3/envs/rl/lib/python3.9/site-packages (from mlagents-envs==0.31.0.dev0) (6.0)\n",
      "Requirement already satisfied: gym>=0.21.0 in /home/raj/anaconda3/envs/rl/lib/python3.9/site-packages (from mlagents-envs==0.31.0.dev0) (0.26.2)\n",
      "Requirement already satisfied: pettingzoo==1.15.0 in /home/raj/anaconda3/envs/rl/lib/python3.9/site-packages (from mlagents-envs==0.31.0.dev0) (1.15.0)\n",
      "Requirement already satisfied: numpy==1.21.2 in /home/raj/anaconda3/envs/rl/lib/python3.9/site-packages (from mlagents-envs==0.31.0.dev0) (1.21.2)\n",
      "Requirement already satisfied: filelock>=3.4.0 in /home/raj/anaconda3/envs/rl/lib/python3.9/site-packages (from mlagents-envs==0.31.0.dev0) (3.12.2)\n",
      "Requirement already satisfied: gym-notices>=0.0.4 in /home/raj/anaconda3/envs/rl/lib/python3.9/site-packages (from gym>=0.21.0->mlagents-envs==0.31.0.dev0) (0.0.8)\n",
      "Requirement already satisfied: importlib-metadata>=4.8.0 in /home/raj/anaconda3/envs/rl/lib/python3.9/site-packages (from gym>=0.21.0->mlagents-envs==0.31.0.dev0) (6.7.0)\n",
      "Requirement already satisfied: zipp>=0.5 in /home/raj/anaconda3/envs/rl/lib/python3.9/site-packages (from importlib-metadata>=4.8.0->gym>=0.21.0->mlagents-envs==0.31.0.dev0) (3.15.0)\n",
      "Installing collected packages: mlagents-envs\n",
      "  Attempting uninstall: mlagents-envs\n",
      "    Found existing installation: mlagents-envs 0.31.0.dev0\n",
      "    Uninstalling mlagents-envs-0.31.0.dev0:\n",
      "      Successfully uninstalled mlagents-envs-0.31.0.dev0\n",
      "  Running setup.py develop for mlagents-envs\n",
      "Successfully installed mlagents-envs-0.31.0.dev0\n",
      "Obtaining file:///home/raj/repos/HF-DeepRL/7-Multi-Agents-AI-vs-AI/ml-agents/ml-agents\n",
      "  Preparing metadata (setup.py) ... \u001b[?25ldone\n",
      "\u001b[?25hRequirement already satisfied: grpcio>=1.11.0 in /home/raj/anaconda3/envs/rl/lib/python3.9/site-packages (from mlagents==0.31.0.dev0) (1.56.0)\n",
      "Requirement already satisfied: h5py>=2.9.0 in /home/raj/anaconda3/envs/rl/lib/python3.9/site-packages (from mlagents==0.31.0.dev0) (3.9.0)\n",
      "Requirement already satisfied: mlagents_envs==0.31.0.dev0 in ./ml-agents-envs (from mlagents==0.31.0.dev0) (0.31.0.dev0)\n",
      "Requirement already satisfied: numpy<2.0,>=1.13.3 in /home/raj/anaconda3/envs/rl/lib/python3.9/site-packages (from mlagents==0.31.0.dev0) (1.21.2)\n",
      "Requirement already satisfied: Pillow>=4.2.1 in /home/raj/anaconda3/envs/rl/lib/python3.9/site-packages (from mlagents==0.31.0.dev0) (10.0.0)\n",
      "Requirement already satisfied: protobuf<3.20,>=3.6 in /home/raj/anaconda3/envs/rl/lib/python3.9/site-packages (from mlagents==0.31.0.dev0) (3.19.6)\n",
      "Requirement already satisfied: pyyaml>=3.1.0 in /home/raj/anaconda3/envs/rl/lib/python3.9/site-packages (from mlagents==0.31.0.dev0) (6.0)\n",
      "Requirement already satisfied: tensorboard>=1.15 in /home/raj/anaconda3/envs/rl/lib/python3.9/site-packages (from mlagents==0.31.0.dev0) (2.13.0)\n",
      "Requirement already satisfied: attrs>=19.3.0 in /home/raj/anaconda3/envs/rl/lib/python3.9/site-packages (from mlagents==0.31.0.dev0) (23.1.0)\n",
      "Requirement already satisfied: huggingface_hub>=0.14 in /home/raj/anaconda3/envs/rl/lib/python3.9/site-packages (from mlagents==0.31.0.dev0) (0.16.2)\n",
      "Requirement already satisfied: torch<=1.11.0,>=1.8.0 in /home/raj/anaconda3/envs/rl/lib/python3.9/site-packages (from mlagents==0.31.0.dev0) (1.11.0)\n",
      "Requirement already satisfied: cattrs<1.7,>=1.1.0 in /home/raj/anaconda3/envs/rl/lib/python3.9/site-packages (from mlagents==0.31.0.dev0) (1.5.0)\n",
      "Requirement already satisfied: cloudpickle in /home/raj/anaconda3/envs/rl/lib/python3.9/site-packages (from mlagents_envs==0.31.0.dev0->mlagents==0.31.0.dev0) (2.2.1)\n",
      "Requirement already satisfied: gym>=0.21.0 in /home/raj/anaconda3/envs/rl/lib/python3.9/site-packages (from mlagents_envs==0.31.0.dev0->mlagents==0.31.0.dev0) (0.26.2)\n",
      "Requirement already satisfied: pettingzoo==1.15.0 in /home/raj/anaconda3/envs/rl/lib/python3.9/site-packages (from mlagents_envs==0.31.0.dev0->mlagents==0.31.0.dev0) (1.15.0)\n",
      "Requirement already satisfied: filelock>=3.4.0 in /home/raj/anaconda3/envs/rl/lib/python3.9/site-packages (from mlagents_envs==0.31.0.dev0->mlagents==0.31.0.dev0) (3.12.2)\n",
      "Requirement already satisfied: fsspec in /home/raj/anaconda3/envs/rl/lib/python3.9/site-packages (from huggingface_hub>=0.14->mlagents==0.31.0.dev0) (2023.6.0)\n",
      "Requirement already satisfied: requests in /home/raj/anaconda3/envs/rl/lib/python3.9/site-packages (from huggingface_hub>=0.14->mlagents==0.31.0.dev0) (2.29.0)\n",
      "Requirement already satisfied: tqdm>=4.42.1 in /home/raj/anaconda3/envs/rl/lib/python3.9/site-packages (from huggingface_hub>=0.14->mlagents==0.31.0.dev0) (4.65.0)\n",
      "Requirement already satisfied: typing-extensions>=3.7.4.3 in /home/raj/anaconda3/envs/rl/lib/python3.9/site-packages (from huggingface_hub>=0.14->mlagents==0.31.0.dev0) (4.7.1)\n",
      "Requirement already satisfied: packaging>=20.9 in /home/raj/anaconda3/envs/rl/lib/python3.9/site-packages (from huggingface_hub>=0.14->mlagents==0.31.0.dev0) (23.1)\n",
      "Requirement already satisfied: absl-py>=0.4 in /home/raj/anaconda3/envs/rl/lib/python3.9/site-packages (from tensorboard>=1.15->mlagents==0.31.0.dev0) (1.4.0)\n",
      "Requirement already satisfied: google-auth<3,>=1.6.3 in /home/raj/anaconda3/envs/rl/lib/python3.9/site-packages (from tensorboard>=1.15->mlagents==0.31.0.dev0) (2.21.0)\n",
      "Requirement already satisfied: google-auth-oauthlib<1.1,>=0.5 in /home/raj/anaconda3/envs/rl/lib/python3.9/site-packages (from tensorboard>=1.15->mlagents==0.31.0.dev0) (1.0.0)\n",
      "Requirement already satisfied: markdown>=2.6.8 in /home/raj/anaconda3/envs/rl/lib/python3.9/site-packages (from tensorboard>=1.15->mlagents==0.31.0.dev0) (3.4.3)\n",
      "Requirement already satisfied: setuptools>=41.0.0 in /home/raj/anaconda3/envs/rl/lib/python3.9/site-packages (from tensorboard>=1.15->mlagents==0.31.0.dev0) (67.8.0)\n",
      "Requirement already satisfied: tensorboard-data-server<0.8.0,>=0.7.0 in /home/raj/anaconda3/envs/rl/lib/python3.9/site-packages (from tensorboard>=1.15->mlagents==0.31.0.dev0) (0.7.1)\n",
      "Requirement already satisfied: werkzeug>=1.0.1 in /home/raj/anaconda3/envs/rl/lib/python3.9/site-packages (from tensorboard>=1.15->mlagents==0.31.0.dev0) (2.3.6)\n",
      "Requirement already satisfied: wheel>=0.26 in /home/raj/anaconda3/envs/rl/lib/python3.9/site-packages (from tensorboard>=1.15->mlagents==0.31.0.dev0) (0.38.4)\n",
      "Requirement already satisfied: cachetools<6.0,>=2.0.0 in /home/raj/anaconda3/envs/rl/lib/python3.9/site-packages (from google-auth<3,>=1.6.3->tensorboard>=1.15->mlagents==0.31.0.dev0) (5.3.1)\n",
      "Requirement already satisfied: pyasn1-modules>=0.2.1 in /home/raj/anaconda3/envs/rl/lib/python3.9/site-packages (from google-auth<3,>=1.6.3->tensorboard>=1.15->mlagents==0.31.0.dev0) (0.3.0)\n",
      "Requirement already satisfied: rsa<5,>=3.1.4 in /home/raj/anaconda3/envs/rl/lib/python3.9/site-packages (from google-auth<3,>=1.6.3->tensorboard>=1.15->mlagents==0.31.0.dev0) (4.9)\n",
      "Requirement already satisfied: six>=1.9.0 in /home/raj/anaconda3/envs/rl/lib/python3.9/site-packages (from google-auth<3,>=1.6.3->tensorboard>=1.15->mlagents==0.31.0.dev0) (1.16.0)\n",
      "Requirement already satisfied: urllib3<2.0 in /home/raj/anaconda3/envs/rl/lib/python3.9/site-packages (from google-auth<3,>=1.6.3->tensorboard>=1.15->mlagents==0.31.0.dev0) (1.26.16)\n",
      "Requirement already satisfied: requests-oauthlib>=0.7.0 in /home/raj/anaconda3/envs/rl/lib/python3.9/site-packages (from google-auth-oauthlib<1.1,>=0.5->tensorboard>=1.15->mlagents==0.31.0.dev0) (1.3.1)\n",
      "Requirement already satisfied: gym-notices>=0.0.4 in /home/raj/anaconda3/envs/rl/lib/python3.9/site-packages (from gym>=0.21.0->mlagents_envs==0.31.0.dev0->mlagents==0.31.0.dev0) (0.0.8)\n",
      "Requirement already satisfied: importlib-metadata>=4.8.0 in /home/raj/anaconda3/envs/rl/lib/python3.9/site-packages (from gym>=0.21.0->mlagents_envs==0.31.0.dev0->mlagents==0.31.0.dev0) (6.7.0)\n",
      "Requirement already satisfied: charset-normalizer<4,>=2 in /home/raj/anaconda3/envs/rl/lib/python3.9/site-packages (from requests->huggingface_hub>=0.14->mlagents==0.31.0.dev0) (2.0.4)\n",
      "Requirement already satisfied: idna<4,>=2.5 in /home/raj/anaconda3/envs/rl/lib/python3.9/site-packages (from requests->huggingface_hub>=0.14->mlagents==0.31.0.dev0) (3.4)\n",
      "Requirement already satisfied: certifi>=2017.4.17 in /home/raj/anaconda3/envs/rl/lib/python3.9/site-packages (from requests->huggingface_hub>=0.14->mlagents==0.31.0.dev0) (2023.5.7)\n",
      "Requirement already satisfied: MarkupSafe>=2.1.1 in /home/raj/anaconda3/envs/rl/lib/python3.9/site-packages (from werkzeug>=1.0.1->tensorboard>=1.15->mlagents==0.31.0.dev0) (2.1.1)\n",
      "Requirement already satisfied: zipp>=0.5 in /home/raj/anaconda3/envs/rl/lib/python3.9/site-packages (from importlib-metadata>=4.8.0->gym>=0.21.0->mlagents_envs==0.31.0.dev0->mlagents==0.31.0.dev0) (3.15.0)\n",
      "Requirement already satisfied: pyasn1<0.6.0,>=0.4.6 in /home/raj/anaconda3/envs/rl/lib/python3.9/site-packages (from pyasn1-modules>=0.2.1->google-auth<3,>=1.6.3->tensorboard>=1.15->mlagents==0.31.0.dev0) (0.5.0)\n",
      "Requirement already satisfied: oauthlib>=3.0.0 in /home/raj/anaconda3/envs/rl/lib/python3.9/site-packages (from requests-oauthlib>=0.7.0->google-auth-oauthlib<1.1,>=0.5->tensorboard>=1.15->mlagents==0.31.0.dev0) (3.2.2)\n",
      "Installing collected packages: mlagents\n",
      "  Attempting uninstall: mlagents\n",
      "    Found existing installation: mlagents 0.31.0.dev0\n",
      "    Uninstalling mlagents-0.31.0.dev0:\n",
      "      Successfully uninstalled mlagents-0.31.0.dev0\n",
      "  Running setup.py develop for mlagents\n",
      "Successfully installed mlagents-0.31.0.dev0\n"
     ]
    }
   ],
   "source": [
    "%cd ml-agents\n",
    "! pip install -e ./ml-agents-envs\n",
    "! pip install -e ./ml-agents"
   ]
  },
  {
   "cell_type": "code",
   "execution_count": 3,
   "metadata": {},
   "outputs": [
    {
     "name": "stdout",
     "output_type": "stream",
     "text": [
      "Requirement already satisfied: torch in /home/raj/anaconda3/envs/rl/lib/python3.9/site-packages (1.11.0)\n",
      "Requirement already satisfied: typing-extensions in /home/raj/anaconda3/envs/rl/lib/python3.9/site-packages (from torch) (4.7.1)\n"
     ]
    }
   ],
   "source": [
    "! pip install torch"
   ]
  },
  {
   "cell_type": "code",
   "execution_count": 5,
   "metadata": {},
   "outputs": [],
   "source": [
    "! mkdir ./training-envs-executables"
   ]
  },
  {
   "cell_type": "code",
   "execution_count": 6,
   "metadata": {},
   "outputs": [],
   "source": [
    "! chmod -R 755 ./training-envs-executables/SoccerTwos"
   ]
  },
  {
   "cell_type": "code",
   "execution_count": 5,
   "metadata": {},
   "outputs": [
    {
     "name": "stdout",
     "output_type": "stream",
     "text": [
      "\n",
      "            ┐  ╖\n",
      "        ╓╖╬│╡  ││╬╖╖\n",
      "    ╓╖╬│││││┘  ╬│││││╬╖\n",
      " ╖╬│││││╬╜        ╙╬│││││╖╖                               ╗╗╗\n",
      " ╬╬╬╬╖││╦╖        ╖╬││╗╣╣╣╬      ╟╣╣╬    ╟╣╣╣             ╜╜╜  ╟╣╣\n",
      " ╬╬╬╬╬╬╬╬╖│╬╖╖╓╬╪│╓╣╣╣╣╣╣╣╬      ╟╣╣╬    ╟╣╣╣ ╒╣╣╖╗╣╣╣╗   ╣╣╣ ╣╣╣╣╣╣ ╟╣╣╖   ╣╣╣\n",
      " ╬╬╬╬┐  ╙╬╬╬╬│╓╣╣╣╝╜  ╫╣╣╣╬      ╟╣╣╬    ╟╣╣╣ ╟╣╣╣╙ ╙╣╣╣  ╣╣╣ ╙╟╣╣╜╙  ╫╣╣  ╟╣╣\n",
      " ╬╬╬╬┐     ╙╬╬╣╣      ╫╣╣╣╬      ╟╣╣╬    ╟╣╣╣ ╟╣╣╬   ╣╣╣  ╣╣╣  ╟╣╣     ╣╣╣┌╣╣╜\n",
      " ╬╬╬╜       ╬╬╣╣      ╙╝╣╣╬      ╙╣╣╣╗╖╓╗╣╣╣╜ ╟╣╣╬   ╣╣╣  ╣╣╣  ╟╣╣╦╓    ╣╣╣╣╣\n",
      " ╙   ╓╦╖    ╬╬╣╣   ╓╗╗╖            ╙╝╣╣╣╣╝╜   ╘╝╝╜   ╝╝╝  ╝╝╝   ╙╣╣╣    ╟╣╣╣\n",
      "   ╩╬╬╬╬╬╬╦╦╬╬╣╣╗╣╣╣╣╣╣╣╝                                             ╫╣╣╣╣\n",
      "      ╙╬╬╬╬╬╬╬╣╣╣╣╣╣╝╜\n",
      "          ╙╬╬╬╣╣╣╜\n",
      "             ╙\n",
      "        \n",
      " Version information:\n",
      "  ml-agents: 0.31.0.dev0,\n",
      "  ml-agents-envs: 0.31.0.dev0,\n",
      "  Communicator API: 1.5.0,\n",
      "  PyTorch: 2.0.1\n",
      "[INFO] Connected to Unity environment with package version 2.3.0-exp.3 and communication version 1.5.0\n",
      "[INFO] Connected new brain: SoccerTwos?team=1\n",
      "[INFO] Connected new brain: SoccerTwos?team=0\n",
      "[INFO] Hyperparameters for behavior name SoccerTwos: \n",
      "\ttrainer_type:\tpoca\n",
      "\thyperparameters:\t\n",
      "\t  batch_size:\t2048\n",
      "\t  buffer_size:\t20480\n",
      "\t  learning_rate:\t0.0003\n",
      "\t  beta:\t0.005\n",
      "\t  epsilon:\t0.2\n",
      "\t  lambd:\t0.95\n",
      "\t  num_epoch:\t3\n",
      "\t  learning_rate_schedule:\tconstant\n",
      "\t  beta_schedule:\tconstant\n",
      "\t  epsilon_schedule:\tconstant\n",
      "\tcheckpoint_interval:\t500000\n",
      "\tnetwork_settings:\t\n",
      "\t  normalize:\tFalse\n",
      "\t  hidden_units:\t512\n",
      "\t  num_layers:\t3\n",
      "\t  vis_encode_type:\tsimple\n",
      "\t  memory:\tNone\n",
      "\t  goal_conditioning_type:\thyper\n",
      "\t  deterministic:\tFalse\n",
      "\treward_signals:\t\n",
      "\t  extrinsic:\t\n",
      "\t    gamma:\t0.99\n",
      "\t    strength:\t1.0\n",
      "\t    network_settings:\t\n",
      "\t      normalize:\tFalse\n",
      "\t      hidden_units:\t128\n",
      "\t      num_layers:\t2\n",
      "\t      vis_encode_type:\tsimple\n",
      "\t      memory:\tNone\n",
      "\t      goal_conditioning_type:\thyper\n",
      "\t      deterministic:\tFalse\n",
      "\tinit_path:\tNone\n",
      "\tkeep_checkpoints:\t5\n",
      "\teven_checkpoints:\tFalse\n",
      "\tmax_steps:\t1000000\n",
      "\ttime_horizon:\t1000\n",
      "\tsummary_freq:\t10000\n",
      "\tthreaded:\tFalse\n",
      "\tself_play:\t\n",
      "\t  save_steps:\t50000\n",
      "\t  team_change:\t350000\n",
      "\t  swap_steps:\t50000\n",
      "\t  window:\t30\n",
      "\t  play_against_latest_model_ratio:\t0.5\n",
      "\t  initial_elo:\t1200.0\n",
      "\tbehavioral_cloning:\tNone\n",
      "[INFO] Resuming from results/SoccerTwos/SoccerTwos.\n",
      "[INFO] Resuming training from step 1000068.\n",
      "================ Diagnostic Run torch.onnx.export version 2.0.1 ================\n",
      "verbose: False, log level: Level.ERROR\n",
      "======================= 0 NONE 0 NOTE 0 WARNING 0 ERROR ========================\n",
      "\n",
      "[INFO] Exported results/SoccerTwos/SoccerTwos/SoccerTwos-1000068.onnx\n",
      "[INFO] Copied results/SoccerTwos/SoccerTwos/SoccerTwos-1000068.onnx to results/SoccerTwos/SoccerTwos.onnx.\n"
     ]
    }
   ],
   "source": [
    "! mlagents-learn ./config/poca/SoccerTwos.yaml --env=./training-envs-executables/SoccerTwos/SoccerTwos.x86_64 --run-id=\"SoccerTwos\" --no-graphics --resume"
   ]
  }
 ],
 "metadata": {
  "kernelspec": {
   "display_name": "rl",
   "language": "python",
   "name": "python3"
  },
  "language_info": {
   "codemirror_mode": {
    "name": "ipython",
    "version": 3
   },
   "file_extension": ".py",
   "mimetype": "text/x-python",
   "name": "python",
   "nbconvert_exporter": "python",
   "pygments_lexer": "ipython3",
   "version": "3.9.17"
  },
  "orig_nbformat": 4
 },
 "nbformat": 4,
 "nbformat_minor": 2
}
