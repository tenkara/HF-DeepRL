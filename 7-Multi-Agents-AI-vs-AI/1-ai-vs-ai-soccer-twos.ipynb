{
 "cells": [
  {
   "cell_type": "code",
   "execution_count": 1,
   "metadata": {},
   "outputs": [
    {
     "name": "stdout",
     "output_type": "stream",
     "text": [
      "Cloning into 'ml-agents'...\n",
      "remote: Enumerating objects: 90265, done.\u001b[K\n",
      "remote: Counting objects: 100% (1161/1161), done.\u001b[K\n",
      "remote: Compressing objects: 100% (521/521), done.\u001b[K\n",
      "remote: Total 90265 (delta 665), reused 971 (delta 571), pack-reused 89104\u001b[K\n",
      "Receiving objects: 100% (90265/90265), 2.87 GiB | 10.96 MiB/s, done.\n",
      "Resolving deltas: 100% (65796/65796), done.\n"
     ]
    }
   ],
   "source": [
    "! git clone https://github.com/Unity-Technologies/ml-agents"
   ]
  },
  {
   "cell_type": "code",
   "execution_count": 3,
   "metadata": {},
   "outputs": [
    {
     "name": "stdout",
     "output_type": "stream",
     "text": [
      "/home/raj/repos/HF-DeepRL/7-Multi-Agents-AI-vs-AI/ml-agents\n",
      "Obtaining file:///home/raj/repos/HF-DeepRL/7-Multi-Agents-AI-vs-AI/ml-agents/ml-agents-envs\n",
      "  Preparing metadata (setup.py) ... \u001b[?25ldone\n",
      "\u001b[?25hRequirement already satisfied: cloudpickle in /home/raj/anaconda3/envs/rl/lib/python3.9/site-packages (from mlagents-envs==0.31.0.dev0) (2.2.1)\n",
      "Requirement already satisfied: grpcio>=1.11.0 in /home/raj/anaconda3/envs/rl/lib/python3.9/site-packages (from mlagents-envs==0.31.0.dev0) (1.56.0)\n",
      "Requirement already satisfied: Pillow>=4.2.1 in /home/raj/anaconda3/envs/rl/lib/python3.9/site-packages (from mlagents-envs==0.31.0.dev0) (10.0.0)\n",
      "Requirement already satisfied: protobuf<3.20,>=3.6 in /home/raj/anaconda3/envs/rl/lib/python3.9/site-packages (from mlagents-envs==0.31.0.dev0) (3.19.6)\n",
      "Requirement already satisfied: pyyaml>=3.1.0 in /home/raj/anaconda3/envs/rl/lib/python3.9/site-packages (from mlagents-envs==0.31.0.dev0) (6.0)\n",
      "Requirement already satisfied: gym>=0.21.0 in /home/raj/anaconda3/envs/rl/lib/python3.9/site-packages (from mlagents-envs==0.31.0.dev0) (0.26.2)\n",
      "Requirement already satisfied: pettingzoo==1.15.0 in /home/raj/anaconda3/envs/rl/lib/python3.9/site-packages (from mlagents-envs==0.31.0.dev0) (1.15.0)\n",
      "Requirement already satisfied: numpy==1.21.2 in /home/raj/anaconda3/envs/rl/lib/python3.9/site-packages (from mlagents-envs==0.31.0.dev0) (1.21.2)\n",
      "Requirement already satisfied: filelock>=3.4.0 in /home/raj/anaconda3/envs/rl/lib/python3.9/site-packages (from mlagents-envs==0.31.0.dev0) (3.12.2)\n",
      "Requirement already satisfied: gym-notices>=0.0.4 in /home/raj/anaconda3/envs/rl/lib/python3.9/site-packages (from gym>=0.21.0->mlagents-envs==0.31.0.dev0) (0.0.8)\n",
      "Requirement already satisfied: importlib-metadata>=4.8.0 in /home/raj/anaconda3/envs/rl/lib/python3.9/site-packages (from gym>=0.21.0->mlagents-envs==0.31.0.dev0) (6.7.0)\n",
      "Requirement already satisfied: zipp>=0.5 in /home/raj/anaconda3/envs/rl/lib/python3.9/site-packages (from importlib-metadata>=4.8.0->gym>=0.21.0->mlagents-envs==0.31.0.dev0) (3.15.0)\n",
      "Installing collected packages: mlagents-envs\n",
      "  Attempting uninstall: mlagents-envs\n",
      "    Found existing installation: mlagents-envs 0.31.0.dev0\n",
      "    Uninstalling mlagents-envs-0.31.0.dev0:\n",
      "      Successfully uninstalled mlagents-envs-0.31.0.dev0\n",
      "  Running setup.py develop for mlagents-envs\n",
      "Successfully installed mlagents-envs-0.31.0.dev0\n",
      "Obtaining file:///home/raj/repos/HF-DeepRL/7-Multi-Agents-AI-vs-AI/ml-agents/ml-agents\n",
      "  Preparing metadata (setup.py) ... \u001b[?25ldone\n",
      "\u001b[?25hRequirement already satisfied: grpcio>=1.11.0 in /home/raj/anaconda3/envs/rl/lib/python3.9/site-packages (from mlagents==0.31.0.dev0) (1.56.0)\n",
      "Requirement already satisfied: h5py>=2.9.0 in /home/raj/anaconda3/envs/rl/lib/python3.9/site-packages (from mlagents==0.31.0.dev0) (3.9.0)\n",
      "Requirement already satisfied: mlagents_envs==0.31.0.dev0 in ./ml-agents-envs (from mlagents==0.31.0.dev0) (0.31.0.dev0)\n",
      "Requirement already satisfied: numpy<2.0,>=1.13.3 in /home/raj/anaconda3/envs/rl/lib/python3.9/site-packages (from mlagents==0.31.0.dev0) (1.21.2)\n",
      "Requirement already satisfied: Pillow>=4.2.1 in /home/raj/anaconda3/envs/rl/lib/python3.9/site-packages (from mlagents==0.31.0.dev0) (10.0.0)\n",
      "Requirement already satisfied: protobuf<3.20,>=3.6 in /home/raj/anaconda3/envs/rl/lib/python3.9/site-packages (from mlagents==0.31.0.dev0) (3.19.6)\n",
      "Requirement already satisfied: pyyaml>=3.1.0 in /home/raj/anaconda3/envs/rl/lib/python3.9/site-packages (from mlagents==0.31.0.dev0) (6.0)\n",
      "Requirement already satisfied: tensorboard>=1.15 in /home/raj/anaconda3/envs/rl/lib/python3.9/site-packages (from mlagents==0.31.0.dev0) (2.13.0)\n",
      "Requirement already satisfied: attrs>=19.3.0 in /home/raj/anaconda3/envs/rl/lib/python3.9/site-packages (from mlagents==0.31.0.dev0) (23.1.0)\n",
      "Requirement already satisfied: huggingface_hub>=0.14 in /home/raj/anaconda3/envs/rl/lib/python3.9/site-packages (from mlagents==0.31.0.dev0) (0.16.2)\n",
      "Requirement already satisfied: torch<=1.11.0,>=1.8.0 in /home/raj/anaconda3/envs/rl/lib/python3.9/site-packages (from mlagents==0.31.0.dev0) (1.11.0)\n",
      "Requirement already satisfied: cattrs<1.7,>=1.1.0 in /home/raj/anaconda3/envs/rl/lib/python3.9/site-packages (from mlagents==0.31.0.dev0) (1.5.0)\n",
      "Requirement already satisfied: cloudpickle in /home/raj/anaconda3/envs/rl/lib/python3.9/site-packages (from mlagents_envs==0.31.0.dev0->mlagents==0.31.0.dev0) (2.2.1)\n",
      "Requirement already satisfied: gym>=0.21.0 in /home/raj/anaconda3/envs/rl/lib/python3.9/site-packages (from mlagents_envs==0.31.0.dev0->mlagents==0.31.0.dev0) (0.26.2)\n",
      "Requirement already satisfied: pettingzoo==1.15.0 in /home/raj/anaconda3/envs/rl/lib/python3.9/site-packages (from mlagents_envs==0.31.0.dev0->mlagents==0.31.0.dev0) (1.15.0)\n",
      "Requirement already satisfied: filelock>=3.4.0 in /home/raj/anaconda3/envs/rl/lib/python3.9/site-packages (from mlagents_envs==0.31.0.dev0->mlagents==0.31.0.dev0) (3.12.2)\n",
      "Requirement already satisfied: fsspec in /home/raj/anaconda3/envs/rl/lib/python3.9/site-packages (from huggingface_hub>=0.14->mlagents==0.31.0.dev0) (2023.6.0)\n",
      "Requirement already satisfied: requests in /home/raj/anaconda3/envs/rl/lib/python3.9/site-packages (from huggingface_hub>=0.14->mlagents==0.31.0.dev0) (2.31.0)\n",
      "Requirement already satisfied: tqdm>=4.42.1 in /home/raj/anaconda3/envs/rl/lib/python3.9/site-packages (from huggingface_hub>=0.14->mlagents==0.31.0.dev0) (4.65.0)\n",
      "Requirement already satisfied: typing-extensions>=3.7.4.3 in /home/raj/anaconda3/envs/rl/lib/python3.9/site-packages (from huggingface_hub>=0.14->mlagents==0.31.0.dev0) (4.7.1)\n",
      "Requirement already satisfied: packaging>=20.9 in /home/raj/anaconda3/envs/rl/lib/python3.9/site-packages (from huggingface_hub>=0.14->mlagents==0.31.0.dev0) (23.1)\n",
      "Requirement already satisfied: absl-py>=0.4 in /home/raj/anaconda3/envs/rl/lib/python3.9/site-packages (from tensorboard>=1.15->mlagents==0.31.0.dev0) (1.4.0)\n",
      "Requirement already satisfied: google-auth<3,>=1.6.3 in /home/raj/anaconda3/envs/rl/lib/python3.9/site-packages (from tensorboard>=1.15->mlagents==0.31.0.dev0) (2.21.0)\n",
      "Requirement already satisfied: google-auth-oauthlib<1.1,>=0.5 in /home/raj/anaconda3/envs/rl/lib/python3.9/site-packages (from tensorboard>=1.15->mlagents==0.31.0.dev0) (1.0.0)\n",
      "Requirement already satisfied: markdown>=2.6.8 in /home/raj/anaconda3/envs/rl/lib/python3.9/site-packages (from tensorboard>=1.15->mlagents==0.31.0.dev0) (3.4.3)\n",
      "Requirement already satisfied: setuptools>=41.0.0 in /home/raj/anaconda3/envs/rl/lib/python3.9/site-packages (from tensorboard>=1.15->mlagents==0.31.0.dev0) (67.8.0)\n",
      "Requirement already satisfied: tensorboard-data-server<0.8.0,>=0.7.0 in /home/raj/anaconda3/envs/rl/lib/python3.9/site-packages (from tensorboard>=1.15->mlagents==0.31.0.dev0) (0.7.1)\n",
      "Requirement already satisfied: werkzeug>=1.0.1 in /home/raj/anaconda3/envs/rl/lib/python3.9/site-packages (from tensorboard>=1.15->mlagents==0.31.0.dev0) (2.3.6)\n",
      "Requirement already satisfied: wheel>=0.26 in /home/raj/anaconda3/envs/rl/lib/python3.9/site-packages (from tensorboard>=1.15->mlagents==0.31.0.dev0) (0.38.4)\n",
      "Requirement already satisfied: cachetools<6.0,>=2.0.0 in /home/raj/anaconda3/envs/rl/lib/python3.9/site-packages (from google-auth<3,>=1.6.3->tensorboard>=1.15->mlagents==0.31.0.dev0) (5.3.1)\n",
      "Requirement already satisfied: pyasn1-modules>=0.2.1 in /home/raj/anaconda3/envs/rl/lib/python3.9/site-packages (from google-auth<3,>=1.6.3->tensorboard>=1.15->mlagents==0.31.0.dev0) (0.3.0)\n",
      "Requirement already satisfied: rsa<5,>=3.1.4 in /home/raj/anaconda3/envs/rl/lib/python3.9/site-packages (from google-auth<3,>=1.6.3->tensorboard>=1.15->mlagents==0.31.0.dev0) (4.9)\n",
      "Requirement already satisfied: six>=1.9.0 in /home/raj/anaconda3/envs/rl/lib/python3.9/site-packages (from google-auth<3,>=1.6.3->tensorboard>=1.15->mlagents==0.31.0.dev0) (1.16.0)\n",
      "Requirement already satisfied: urllib3<2.0 in /home/raj/anaconda3/envs/rl/lib/python3.9/site-packages (from google-auth<3,>=1.6.3->tensorboard>=1.15->mlagents==0.31.0.dev0) (1.26.16)\n",
      "Requirement already satisfied: requests-oauthlib>=0.7.0 in /home/raj/anaconda3/envs/rl/lib/python3.9/site-packages (from google-auth-oauthlib<1.1,>=0.5->tensorboard>=1.15->mlagents==0.31.0.dev0) (1.3.1)\n",
      "Requirement already satisfied: gym-notices>=0.0.4 in /home/raj/anaconda3/envs/rl/lib/python3.9/site-packages (from gym>=0.21.0->mlagents_envs==0.31.0.dev0->mlagents==0.31.0.dev0) (0.0.8)\n",
      "Requirement already satisfied: importlib-metadata>=4.8.0 in /home/raj/anaconda3/envs/rl/lib/python3.9/site-packages (from gym>=0.21.0->mlagents_envs==0.31.0.dev0->mlagents==0.31.0.dev0) (6.7.0)\n",
      "Requirement already satisfied: charset-normalizer<4,>=2 in /home/raj/anaconda3/envs/rl/lib/python3.9/site-packages (from requests->huggingface_hub>=0.14->mlagents==0.31.0.dev0) (3.1.0)\n",
      "Requirement already satisfied: idna<4,>=2.5 in /home/raj/anaconda3/envs/rl/lib/python3.9/site-packages (from requests->huggingface_hub>=0.14->mlagents==0.31.0.dev0) (3.4)\n",
      "Requirement already satisfied: certifi>=2017.4.17 in /home/raj/anaconda3/envs/rl/lib/python3.9/site-packages (from requests->huggingface_hub>=0.14->mlagents==0.31.0.dev0) (2023.5.7)\n",
      "Requirement already satisfied: MarkupSafe>=2.1.1 in /home/raj/anaconda3/envs/rl/lib/python3.9/site-packages (from werkzeug>=1.0.1->tensorboard>=1.15->mlagents==0.31.0.dev0) (2.1.3)\n",
      "Requirement already satisfied: zipp>=0.5 in /home/raj/anaconda3/envs/rl/lib/python3.9/site-packages (from importlib-metadata>=4.8.0->gym>=0.21.0->mlagents_envs==0.31.0.dev0->mlagents==0.31.0.dev0) (3.15.0)\n",
      "Requirement already satisfied: pyasn1<0.6.0,>=0.4.6 in /home/raj/anaconda3/envs/rl/lib/python3.9/site-packages (from pyasn1-modules>=0.2.1->google-auth<3,>=1.6.3->tensorboard>=1.15->mlagents==0.31.0.dev0) (0.5.0)\n",
      "Requirement already satisfied: oauthlib>=3.0.0 in /home/raj/anaconda3/envs/rl/lib/python3.9/site-packages (from requests-oauthlib>=0.7.0->google-auth-oauthlib<1.1,>=0.5->tensorboard>=1.15->mlagents==0.31.0.dev0) (3.2.2)\n",
      "Installing collected packages: mlagents\n",
      "  Attempting uninstall: mlagents\n",
      "    Found existing installation: mlagents 0.31.0.dev0\n",
      "    Uninstalling mlagents-0.31.0.dev0:\n",
      "      Successfully uninstalled mlagents-0.31.0.dev0\n",
      "  Running setup.py develop for mlagents\n",
      "Successfully installed mlagents-0.31.0.dev0\n"
     ]
    }
   ],
   "source": [
    "%cd ml-agents\n",
    "! pip install -e ./ml-agents-envs\n",
    "! pip install -e ./ml-agents"
   ]
  },
  {
   "cell_type": "code",
   "execution_count": 4,
   "metadata": {},
   "outputs": [
    {
     "name": "stdout",
     "output_type": "stream",
     "text": [
      "Requirement already satisfied: torch in /home/raj/anaconda3/envs/rl/lib/python3.9/site-packages (1.11.0)\n",
      "Requirement already satisfied: typing-extensions in /home/raj/anaconda3/envs/rl/lib/python3.9/site-packages (from torch) (4.7.1)\n"
     ]
    }
   ],
   "source": [
    "! pip install torch"
   ]
  },
  {
   "cell_type": "code",
   "execution_count": null,
   "metadata": {},
   "outputs": [],
   "source": []
  }
 ],
 "metadata": {
  "kernelspec": {
   "display_name": "rl",
   "language": "python",
   "name": "python3"
  },
  "language_info": {
   "codemirror_mode": {
    "name": "ipython",
    "version": 3
   },
   "file_extension": ".py",
   "mimetype": "text/x-python",
   "name": "python",
   "nbconvert_exporter": "python",
   "pygments_lexer": "ipython3",
   "version": "3.9.17"
  },
  "orig_nbformat": 4
 },
 "nbformat": 4,
 "nbformat_minor": 2
}
