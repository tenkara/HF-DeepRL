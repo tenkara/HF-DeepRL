{
 "cells": [
  {
   "cell_type": "code",
   "execution_count": 1,
   "metadata": {},
   "outputs": [
    {
     "name": "stdout",
     "output_type": "stream",
     "text": [
      "Cloning into 'ml-agents'...\n",
      "remote: Enumerating objects: 90265, done.\u001b[K\n",
      "remote: Counting objects: 100% (1161/1161), done.\u001b[K\n",
      "remote: Compressing objects: 100% (521/521), done.\u001b[K\n",
      "remote: Total 90265 (delta 665), reused 971 (delta 571), pack-reused 89104\u001b[K\n",
      "Receiving objects: 100% (90265/90265), 2.87 GiB | 10.96 MiB/s, done.\n",
      "Resolving deltas: 100% (65796/65796), done.\n"
     ]
    }
   ],
   "source": [
    "! git clone https://github.com/Unity-Technologies/ml-agents"
   ]
  },
  {
   "cell_type": "code",
   "execution_count": null,
   "metadata": {},
   "outputs": [],
   "source": []
  }
 ],
 "metadata": {
  "kernelspec": {
   "display_name": "rl",
   "language": "python",
   "name": "python3"
  },
  "language_info": {
   "codemirror_mode": {
    "name": "ipython",
    "version": 3
   },
   "file_extension": ".py",
   "mimetype": "text/x-python",
   "name": "python",
   "nbconvert_exporter": "python",
   "pygments_lexer": "ipython3",
   "version": "3.9.17"
  },
  "orig_nbformat": 4
 },
 "nbformat": 4,
 "nbformat_minor": 2
}
