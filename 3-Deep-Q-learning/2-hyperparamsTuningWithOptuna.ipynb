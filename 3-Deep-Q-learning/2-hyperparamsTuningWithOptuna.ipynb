{
 "cells": [
  {
   "attachments": {},
   "cell_type": "markdown",
   "metadata": {},
   "source": [
    "# Hyperparameter tuning with Optuna\n",
    "\n",
    "Github repo: https://github.com/araffin/tools-for-robotic-rl-icra2022\n",
    "\n",
    "Optuna: https://github.com/optuna/optuna\n",
    "\n",
    "Stable-Baselines3: https://github.com/DLR-RM/stable-baselines3\n",
    "\n",
    "Documentation: https://stable-baselines3.readthedocs.io/en/master/\n",
    "\n",
    "SB3 Contrib: https://github.com/Stable-Baselines-Team/stable-baselines3-contrib\n",
    "\n",
    "RL Baselines3 zoo: https://github.com/DLR-RM/rl-baselines3-zoo\n",
    "\n",
    "[RL Baselines3 Zoo](https://github.com/DLR-RM/rl-baselines3-zoo) is a collection of pre-trained Reinforcement Learning agents using Stable-Baselines3.\n",
    "\n",
    "It also provides basic scripts for training, evaluating agents, tuning hyperparameters and recording videos.\n",
    "\n",
    "\n",
    "## Introduction\n",
    "\n",
    "In this notebook, you will learn the importance of tuning hyperparameters. You will first try to optimize the parameters manually and then we will see how to automate the search using Optuna.\n",
    "\n",
    "\n",
    "## Install Dependencies and Stable Baselines3 Using Pip\n",
    "\n",
    "List of full dependencies can be found in the [README](https://github.com/DLR-RM/stable-baselines3).\n",
    "\n",
    "\n",
    "```\n",
    "pip install stable-baselines3[extra]\n",
    "```"
   ]
  },
  {
   "cell_type": "code",
   "execution_count": 1,
   "metadata": {},
   "outputs": [
    {
     "name": "stdout",
     "output_type": "stream",
     "text": [
      "Requirement already satisfied: stable-baselines3[extra] in /home/raj/repos/HF-DeepRL/.venv/lib/python3.10/site-packages (2.0.0)\n",
      "Requirement already satisfied: pandas in /home/raj/repos/HF-DeepRL/.venv/lib/python3.10/site-packages (from stable-baselines3[extra]) (2.0.3)\n",
      "Requirement already satisfied: gymnasium==0.28.1 in /home/raj/repos/HF-DeepRL/.venv/lib/python3.10/site-packages (from stable-baselines3[extra]) (0.28.1)\n",
      "Requirement already satisfied: matplotlib in /home/raj/repos/HF-DeepRL/.venv/lib/python3.10/site-packages (from stable-baselines3[extra]) (3.7.1)\n",
      "Requirement already satisfied: torch>=1.11 in /home/raj/repos/HF-DeepRL/.venv/lib/python3.10/site-packages (from stable-baselines3[extra]) (1.11.0+cu113)\n",
      "Requirement already satisfied: cloudpickle in /home/raj/repos/HF-DeepRL/.venv/lib/python3.10/site-packages (from stable-baselines3[extra]) (2.2.1)\n",
      "Requirement already satisfied: numpy>=1.20 in /home/raj/repos/HF-DeepRL/.venv/lib/python3.10/site-packages (from stable-baselines3[extra]) (1.21.2)\n",
      "Requirement already satisfied: psutil in /home/raj/repos/HF-DeepRL/.venv/lib/python3.10/site-packages (from stable-baselines3[extra]) (5.9.5)\n",
      "Requirement already satisfied: rich in /home/raj/repos/HF-DeepRL/.venv/lib/python3.10/site-packages (from stable-baselines3[extra]) (13.4.2)\n",
      "Requirement already satisfied: pillow in /home/raj/repos/HF-DeepRL/.venv/lib/python3.10/site-packages (from stable-baselines3[extra]) (10.0.0)\n",
      "Requirement already satisfied: tqdm in /home/raj/repos/HF-DeepRL/.venv/lib/python3.10/site-packages (from stable-baselines3[extra]) (4.65.0)\n",
      "Requirement already satisfied: opencv-python in /home/raj/repos/HF-DeepRL/.venv/lib/python3.10/site-packages (from stable-baselines3[extra]) (4.8.0.74)\n",
      "Requirement already satisfied: shimmy[atari]~=0.2.1 in /home/raj/repos/HF-DeepRL/.venv/lib/python3.10/site-packages (from stable-baselines3[extra]) (0.2.1)\n",
      "Requirement already satisfied: tensorboard>=2.9.1 in /home/raj/repos/HF-DeepRL/.venv/lib/python3.10/site-packages (from stable-baselines3[extra]) (2.13.0)\n",
      "Collecting autorom[accept-rom-license]~=0.6.0\n",
      "  Downloading AutoROM-0.6.1-py3-none-any.whl (9.4 kB)\n",
      "Requirement already satisfied: pygame in /home/raj/repos/HF-DeepRL/.venv/lib/python3.10/site-packages (from stable-baselines3[extra]) (2.1.3)\n",
      "Requirement already satisfied: typing-extensions>=4.3.0 in /home/raj/repos/HF-DeepRL/.venv/lib/python3.10/site-packages (from gymnasium==0.28.1->stable-baselines3[extra]) (4.7.0)\n",
      "Requirement already satisfied: farama-notifications>=0.0.1 in /home/raj/repos/HF-DeepRL/.venv/lib/python3.10/site-packages (from gymnasium==0.28.1->stable-baselines3[extra]) (0.0.4)\n",
      "Requirement already satisfied: jax-jumpy>=1.0.0 in /home/raj/repos/HF-DeepRL/.venv/lib/python3.10/site-packages (from gymnasium==0.28.1->stable-baselines3[extra]) (1.0.0)\n",
      "Requirement already satisfied: requests in /home/raj/repos/HF-DeepRL/.venv/lib/python3.10/site-packages (from autorom[accept-rom-license]~=0.6.0->stable-baselines3[extra]) (2.31.0)\n",
      "Requirement already satisfied: click in /home/raj/repos/HF-DeepRL/.venv/lib/python3.10/site-packages (from autorom[accept-rom-license]~=0.6.0->stable-baselines3[extra]) (8.1.3)\n",
      "Requirement already satisfied: AutoROM.accept-rom-license in /home/raj/repos/HF-DeepRL/.venv/lib/python3.10/site-packages (from autorom[accept-rom-license]~=0.6.0->stable-baselines3[extra]) (0.6.1)\n",
      "Requirement already satisfied: ale-py~=0.8.1 in /home/raj/repos/HF-DeepRL/.venv/lib/python3.10/site-packages (from shimmy[atari]~=0.2.1->stable-baselines3[extra]) (0.8.1)\n",
      "Requirement already satisfied: google-auth<3,>=1.6.3 in /home/raj/repos/HF-DeepRL/.venv/lib/python3.10/site-packages (from tensorboard>=2.9.1->stable-baselines3[extra]) (2.21.0)\n",
      "Requirement already satisfied: tensorboard-data-server<0.8.0,>=0.7.0 in /home/raj/repos/HF-DeepRL/.venv/lib/python3.10/site-packages (from tensorboard>=2.9.1->stable-baselines3[extra]) (0.7.1)\n",
      "Requirement already satisfied: protobuf>=3.19.6 in /home/raj/repos/HF-DeepRL/.venv/lib/python3.10/site-packages (from tensorboard>=2.9.1->stable-baselines3[extra]) (3.19.6)\n",
      "Requirement already satisfied: werkzeug>=1.0.1 in /home/raj/repos/HF-DeepRL/.venv/lib/python3.10/site-packages (from tensorboard>=2.9.1->stable-baselines3[extra]) (2.3.6)\n",
      "Requirement already satisfied: wheel>=0.26 in /home/raj/repos/HF-DeepRL/.venv/lib/python3.10/site-packages (from tensorboard>=2.9.1->stable-baselines3[extra]) (0.40.0)\n",
      "Requirement already satisfied: markdown>=2.6.8 in /home/raj/repos/HF-DeepRL/.venv/lib/python3.10/site-packages (from tensorboard>=2.9.1->stable-baselines3[extra]) (3.4.3)\n",
      "Requirement already satisfied: absl-py>=0.4 in /home/raj/repos/HF-DeepRL/.venv/lib/python3.10/site-packages (from tensorboard>=2.9.1->stable-baselines3[extra]) (1.4.0)\n",
      "Requirement already satisfied: grpcio>=1.48.2 in /home/raj/repos/HF-DeepRL/.venv/lib/python3.10/site-packages (from tensorboard>=2.9.1->stable-baselines3[extra]) (1.56.0)\n",
      "Requirement already satisfied: setuptools>=41.0.0 in /home/raj/repos/HF-DeepRL/.venv/lib/python3.10/site-packages (from tensorboard>=2.9.1->stable-baselines3[extra]) (59.6.0)\n",
      "Requirement already satisfied: google-auth-oauthlib<1.1,>=0.5 in /home/raj/repos/HF-DeepRL/.venv/lib/python3.10/site-packages (from tensorboard>=2.9.1->stable-baselines3[extra]) (1.0.0)\n",
      "Requirement already satisfied: python-dateutil>=2.7 in /home/raj/repos/HF-DeepRL/.venv/lib/python3.10/site-packages (from matplotlib->stable-baselines3[extra]) (2.8.2)\n",
      "Requirement already satisfied: contourpy>=1.0.1 in /home/raj/repos/HF-DeepRL/.venv/lib/python3.10/site-packages (from matplotlib->stable-baselines3[extra]) (1.1.0)\n",
      "Requirement already satisfied: pyparsing>=2.3.1 in /home/raj/repos/HF-DeepRL/.venv/lib/python3.10/site-packages (from matplotlib->stable-baselines3[extra]) (3.1.0)\n",
      "Requirement already satisfied: fonttools>=4.22.0 in /home/raj/repos/HF-DeepRL/.venv/lib/python3.10/site-packages (from matplotlib->stable-baselines3[extra]) (4.40.0)\n",
      "Requirement already satisfied: packaging>=20.0 in /home/raj/repos/HF-DeepRL/.venv/lib/python3.10/site-packages (from matplotlib->stable-baselines3[extra]) (23.1)\n",
      "Requirement already satisfied: kiwisolver>=1.0.1 in /home/raj/repos/HF-DeepRL/.venv/lib/python3.10/site-packages (from matplotlib->stable-baselines3[extra]) (1.4.4)\n",
      "Requirement already satisfied: cycler>=0.10 in /home/raj/repos/HF-DeepRL/.venv/lib/python3.10/site-packages (from matplotlib->stable-baselines3[extra]) (0.11.0)\n",
      "Requirement already satisfied: pytz>=2020.1 in /home/raj/repos/HF-DeepRL/.venv/lib/python3.10/site-packages (from pandas->stable-baselines3[extra]) (2023.3)\n",
      "Requirement already satisfied: tzdata>=2022.1 in /home/raj/repos/HF-DeepRL/.venv/lib/python3.10/site-packages (from pandas->stable-baselines3[extra]) (2023.3)\n",
      "Requirement already satisfied: markdown-it-py>=2.2.0 in /home/raj/repos/HF-DeepRL/.venv/lib/python3.10/site-packages (from rich->stable-baselines3[extra]) (3.0.0)\n",
      "Requirement already satisfied: pygments<3.0.0,>=2.13.0 in /home/raj/repos/HF-DeepRL/.venv/lib/python3.10/site-packages (from rich->stable-baselines3[extra]) (2.15.1)\n",
      "Requirement already satisfied: importlib-resources in /home/raj/repos/HF-DeepRL/.venv/lib/python3.10/site-packages (from ale-py~=0.8.1->shimmy[atari]~=0.2.1->stable-baselines3[extra]) (5.12.0)\n",
      "Requirement already satisfied: urllib3<2.0 in /home/raj/repos/HF-DeepRL/.venv/lib/python3.10/site-packages (from google-auth<3,>=1.6.3->tensorboard>=2.9.1->stable-baselines3[extra]) (1.26.16)\n",
      "Requirement already satisfied: rsa<5,>=3.1.4 in /home/raj/repos/HF-DeepRL/.venv/lib/python3.10/site-packages (from google-auth<3,>=1.6.3->tensorboard>=2.9.1->stable-baselines3[extra]) (4.9)\n",
      "Requirement already satisfied: cachetools<6.0,>=2.0.0 in /home/raj/repos/HF-DeepRL/.venv/lib/python3.10/site-packages (from google-auth<3,>=1.6.3->tensorboard>=2.9.1->stable-baselines3[extra]) (5.3.1)\n",
      "Requirement already satisfied: six>=1.9.0 in /home/raj/repos/HF-DeepRL/.venv/lib/python3.10/site-packages (from google-auth<3,>=1.6.3->tensorboard>=2.9.1->stable-baselines3[extra]) (1.16.0)\n",
      "Requirement already satisfied: pyasn1-modules>=0.2.1 in /home/raj/repos/HF-DeepRL/.venv/lib/python3.10/site-packages (from google-auth<3,>=1.6.3->tensorboard>=2.9.1->stable-baselines3[extra]) (0.3.0)\n",
      "Requirement already satisfied: requests-oauthlib>=0.7.0 in /home/raj/repos/HF-DeepRL/.venv/lib/python3.10/site-packages (from google-auth-oauthlib<1.1,>=0.5->tensorboard>=2.9.1->stable-baselines3[extra]) (1.3.1)\n",
      "Requirement already satisfied: mdurl~=0.1 in /home/raj/repos/HF-DeepRL/.venv/lib/python3.10/site-packages (from markdown-it-py>=2.2.0->rich->stable-baselines3[extra]) (0.1.2)\n",
      "Requirement already satisfied: idna<4,>=2.5 in /home/raj/repos/HF-DeepRL/.venv/lib/python3.10/site-packages (from requests->autorom[accept-rom-license]~=0.6.0->stable-baselines3[extra]) (3.4)\n",
      "Requirement already satisfied: charset-normalizer<4,>=2 in /home/raj/repos/HF-DeepRL/.venv/lib/python3.10/site-packages (from requests->autorom[accept-rom-license]~=0.6.0->stable-baselines3[extra]) (3.1.0)\n",
      "Requirement already satisfied: certifi>=2017.4.17 in /home/raj/repos/HF-DeepRL/.venv/lib/python3.10/site-packages (from requests->autorom[accept-rom-license]~=0.6.0->stable-baselines3[extra]) (2023.5.7)\n",
      "Requirement already satisfied: MarkupSafe>=2.1.1 in /home/raj/repos/HF-DeepRL/.venv/lib/python3.10/site-packages (from werkzeug>=1.0.1->tensorboard>=2.9.1->stable-baselines3[extra]) (2.1.3)\n",
      "Requirement already satisfied: pyasn1<0.6.0,>=0.4.6 in /home/raj/repos/HF-DeepRL/.venv/lib/python3.10/site-packages (from pyasn1-modules>=0.2.1->google-auth<3,>=1.6.3->tensorboard>=2.9.1->stable-baselines3[extra]) (0.5.0)\n",
      "Requirement already satisfied: oauthlib>=3.0.0 in /home/raj/repos/HF-DeepRL/.venv/lib/python3.10/site-packages (from requests-oauthlib>=0.7.0->google-auth-oauthlib<1.1,>=0.5->tensorboard>=2.9.1->stable-baselines3[extra]) (3.2.2)\n",
      "Installing collected packages: autorom\n",
      "  Attempting uninstall: autorom\n",
      "    Found existing installation: AutoROM 0.4.2\n",
      "    Uninstalling AutoROM-0.4.2:\n",
      "      Successfully uninstalled AutoROM-0.4.2\n",
      "Successfully installed autorom-0.6.1\n"
     ]
    }
   ],
   "source": [
    "!pip install stable-baselines3[extra]"
   ]
  },
  {
   "cell_type": "code",
   "execution_count": 5,
   "metadata": {},
   "outputs": [
    {
     "name": "stdout",
     "output_type": "stream",
     "text": [
      "Requirement already satisfied: sb3-contrib in /home/raj/repos/HF-DeepRL/.venv/lib/python3.10/site-packages (2.0.0)\n",
      "Requirement already satisfied: stable-baselines3>=2.0.0 in /home/raj/repos/HF-DeepRL/.venv/lib/python3.10/site-packages (from sb3-contrib) (2.0.0)\n",
      "Requirement already satisfied: pandas in /home/raj/repos/HF-DeepRL/.venv/lib/python3.10/site-packages (from stable-baselines3>=2.0.0->sb3-contrib) (2.0.3)\n",
      "Requirement already satisfied: cloudpickle in /home/raj/repos/HF-DeepRL/.venv/lib/python3.10/site-packages (from stable-baselines3>=2.0.0->sb3-contrib) (2.2.1)\n",
      "Requirement already satisfied: numpy>=1.20 in /home/raj/repos/HF-DeepRL/.venv/lib/python3.10/site-packages (from stable-baselines3>=2.0.0->sb3-contrib) (1.21.2)\n",
      "Requirement already satisfied: gymnasium==0.28.1 in /home/raj/repos/HF-DeepRL/.venv/lib/python3.10/site-packages (from stable-baselines3>=2.0.0->sb3-contrib) (0.28.1)\n",
      "Requirement already satisfied: matplotlib in /home/raj/repos/HF-DeepRL/.venv/lib/python3.10/site-packages (from stable-baselines3>=2.0.0->sb3-contrib) (3.7.1)\n",
      "Requirement already satisfied: torch>=1.11 in /home/raj/repos/HF-DeepRL/.venv/lib/python3.10/site-packages (from stable-baselines3>=2.0.0->sb3-contrib) (1.11.0+cu113)\n",
      "Requirement already satisfied: farama-notifications>=0.0.1 in /home/raj/repos/HF-DeepRL/.venv/lib/python3.10/site-packages (from gymnasium==0.28.1->stable-baselines3>=2.0.0->sb3-contrib) (0.0.4)\n",
      "Requirement already satisfied: jax-jumpy>=1.0.0 in /home/raj/repos/HF-DeepRL/.venv/lib/python3.10/site-packages (from gymnasium==0.28.1->stable-baselines3>=2.0.0->sb3-contrib) (1.0.0)\n",
      "Requirement already satisfied: typing-extensions>=4.3.0 in /home/raj/repos/HF-DeepRL/.venv/lib/python3.10/site-packages (from gymnasium==0.28.1->stable-baselines3>=2.0.0->sb3-contrib) (4.7.0)\n",
      "Requirement already satisfied: contourpy>=1.0.1 in /home/raj/repos/HF-DeepRL/.venv/lib/python3.10/site-packages (from matplotlib->stable-baselines3>=2.0.0->sb3-contrib) (1.1.0)\n",
      "Requirement already satisfied: cycler>=0.10 in /home/raj/repos/HF-DeepRL/.venv/lib/python3.10/site-packages (from matplotlib->stable-baselines3>=2.0.0->sb3-contrib) (0.11.0)\n",
      "Requirement already satisfied: fonttools>=4.22.0 in /home/raj/repos/HF-DeepRL/.venv/lib/python3.10/site-packages (from matplotlib->stable-baselines3>=2.0.0->sb3-contrib) (4.40.0)\n",
      "Requirement already satisfied: pyparsing>=2.3.1 in /home/raj/repos/HF-DeepRL/.venv/lib/python3.10/site-packages (from matplotlib->stable-baselines3>=2.0.0->sb3-contrib) (3.1.0)\n",
      "Requirement already satisfied: python-dateutil>=2.7 in /home/raj/repos/HF-DeepRL/.venv/lib/python3.10/site-packages (from matplotlib->stable-baselines3>=2.0.0->sb3-contrib) (2.8.2)\n",
      "Requirement already satisfied: pillow>=6.2.0 in /home/raj/repos/HF-DeepRL/.venv/lib/python3.10/site-packages (from matplotlib->stable-baselines3>=2.0.0->sb3-contrib) (10.0.0)\n",
      "Requirement already satisfied: packaging>=20.0 in /home/raj/repos/HF-DeepRL/.venv/lib/python3.10/site-packages (from matplotlib->stable-baselines3>=2.0.0->sb3-contrib) (23.1)\n",
      "Requirement already satisfied: kiwisolver>=1.0.1 in /home/raj/repos/HF-DeepRL/.venv/lib/python3.10/site-packages (from matplotlib->stable-baselines3>=2.0.0->sb3-contrib) (1.4.4)\n",
      "Requirement already satisfied: pytz>=2020.1 in /home/raj/repos/HF-DeepRL/.venv/lib/python3.10/site-packages (from pandas->stable-baselines3>=2.0.0->sb3-contrib) (2023.3)\n",
      "Requirement already satisfied: tzdata>=2022.1 in /home/raj/repos/HF-DeepRL/.venv/lib/python3.10/site-packages (from pandas->stable-baselines3>=2.0.0->sb3-contrib) (2023.3)\n",
      "Requirement already satisfied: six>=1.5 in /home/raj/repos/HF-DeepRL/.venv/lib/python3.10/site-packages (from python-dateutil>=2.7->matplotlib->stable-baselines3>=2.0.0->sb3-contrib) (1.16.0)\n"
     ]
    }
   ],
   "source": [
    "!pip install sb3-contrib"
   ]
  },
  {
   "cell_type": "code",
   "execution_count": 2,
   "metadata": {},
   "outputs": [
    {
     "name": "stdout",
     "output_type": "stream",
     "text": [
      "Requirement already satisfied: optuna in /home/raj/repos/HF-DeepRL/.venv/lib/python3.10/site-packages (3.2.0)\n",
      "Requirement already satisfied: PyYAML in /home/raj/repos/HF-DeepRL/.venv/lib/python3.10/site-packages (from optuna) (6.0)\n",
      "Requirement already satisfied: tqdm in /home/raj/repos/HF-DeepRL/.venv/lib/python3.10/site-packages (from optuna) (4.65.0)\n",
      "Requirement already satisfied: sqlalchemy>=1.3.0 in /home/raj/repos/HF-DeepRL/.venv/lib/python3.10/site-packages (from optuna) (2.0.17)\n",
      "Requirement already satisfied: packaging>=20.0 in /home/raj/repos/HF-DeepRL/.venv/lib/python3.10/site-packages (from optuna) (23.1)\n",
      "Requirement already satisfied: colorlog in /home/raj/repos/HF-DeepRL/.venv/lib/python3.10/site-packages (from optuna) (6.7.0)\n",
      "Requirement already satisfied: numpy in /home/raj/repos/HF-DeepRL/.venv/lib/python3.10/site-packages (from optuna) (1.21.2)\n",
      "Requirement already satisfied: alembic>=1.5.0 in /home/raj/repos/HF-DeepRL/.venv/lib/python3.10/site-packages (from optuna) (1.11.1)\n",
      "Requirement already satisfied: cmaes>=0.9.1 in /home/raj/repos/HF-DeepRL/.venv/lib/python3.10/site-packages (from optuna) (0.9.1)\n",
      "Requirement already satisfied: typing-extensions>=4 in /home/raj/repos/HF-DeepRL/.venv/lib/python3.10/site-packages (from alembic>=1.5.0->optuna) (4.7.0)\n",
      "Requirement already satisfied: Mako in /home/raj/repos/HF-DeepRL/.venv/lib/python3.10/site-packages (from alembic>=1.5.0->optuna) (1.2.4)\n",
      "Requirement already satisfied: greenlet!=0.4.17 in /home/raj/repos/HF-DeepRL/.venv/lib/python3.10/site-packages (from sqlalchemy>=1.3.0->optuna) (2.0.2)\n",
      "Requirement already satisfied: MarkupSafe>=0.9.2 in /home/raj/repos/HF-DeepRL/.venv/lib/python3.10/site-packages (from Mako->alembic>=1.5.0->optuna) (2.1.3)\n"
     ]
    }
   ],
   "source": [
    "!pip install optuna"
   ]
  },
  {
   "cell_type": "code",
   "execution_count": 3,
   "metadata": {},
   "outputs": [],
   "source": [
    "import gym\n",
    "import numpy as np"
   ]
  },
  {
   "attachments": {},
   "cell_type": "markdown",
   "metadata": {},
   "source": [
    "The first thing you need to import is the RL model, check the documentation to know what you can use on which problem"
   ]
  },
  {
   "cell_type": "code",
   "execution_count": 4,
   "metadata": {},
   "outputs": [],
   "source": [
    "from stable_baselines3 import PPO, A2C, DQN, SAC, TD3"
   ]
  },
  {
   "cell_type": "code",
   "execution_count": 6,
   "metadata": {},
   "outputs": [],
   "source": [
    "# Algorithms from the contrib repo\n",
    "# https://github.com/Stable-Baselines-Team/stable-baselines3-contrib\n",
    "from sb3_contrib import QRDQN, TQC"
   ]
  },
  {
   "cell_type": "code",
   "execution_count": 7,
   "metadata": {},
   "outputs": [],
   "source": [
    "from stable_baselines3.common.evaluation import evaluate_policy\n",
    "from stable_baselines3.common.env_util import make_vec_env"
   ]
  },
  {
   "attachments": {},
   "cell_type": "markdown",
   "metadata": {},
   "source": [
    "### Part I: The Importance Of Tuned Hyperparameters\n"
   ]
  },
  {
   "attachments": {},
   "cell_type": "markdown",
   "metadata": {},
   "source": [
    "When compared with Supervised Learning, Deep Reinforcement Learning is far more sensitive to the choice of hyper-parameters such as learning rate, number of neurons, number of layers, optimizer ... etc. \n",
    "\n",
    "Poor choice of hyper-parameters can lead to poor/unstable convergence. This challenge is compounded by the variability in performance across random seeds (used to initialize the network weights and the environment)."
   ]
  },
  {
   "attachments": {},
   "cell_type": "markdown",
   "metadata": {},
   "source": [
    "In addition to hyperparameters, selecting the appropriate algorithm is also an important choice. We will demonstrate it on the simple Pendulum task.\n",
    "\n",
    "See [gym doc](https://gym.openai.com/envs/Pendulum-v0/): \"The inverted pendulum swingup problem is a classic problem in the control literature. In this version  of the problem, the pendulum starts in a random position, and the goal is to swing it up so it stays upright.\"\n",
    "\n",
    "\n",
    "Let's try first with PPO and a small budget of 4000 steps (20 episodes):"
   ]
  },
  {
   "cell_type": "code",
   "execution_count": 8,
   "metadata": {},
   "outputs": [],
   "source": [
    "env_id = \"Pendulum-v1\"\n",
    "# Env used only for evaluation\n",
    "eval_envs = make_vec_env(env_id, n_envs=10)\n",
    "# 4000 training timesteps\n",
    "budget_pendulum = 4000"
   ]
  },
  {
   "attachments": {},
   "cell_type": "markdown",
   "metadata": {},
   "source": [
    "PPO"
   ]
  },
  {
   "cell_type": "code",
   "execution_count": 9,
   "metadata": {},
   "outputs": [],
   "source": [
    "ppo_model = PPO(\"MlpPolicy\", env_id, seed=0, verbose=0).learn(budget_pendulum)"
   ]
  },
  {
   "cell_type": "code",
   "execution_count": 10,
   "metadata": {},
   "outputs": [
    {
     "name": "stdout",
     "output_type": "stream",
     "text": [
      "PPO Mean episode reward: -1218.55 +/- 296.81\n"
     ]
    }
   ],
   "source": [
    "mean_reward, std_reward = evaluate_policy(ppo_model, eval_envs, n_eval_episodes=100, deterministic=True)\n",
    "\n",
    "print(f\"PPO Mean episode reward: {mean_reward:.2f} +/- {std_reward:.2f}\")"
   ]
  }
 ],
 "metadata": {
  "kernelspec": {
   "display_name": ".venv",
   "language": "python",
   "name": "python3"
  },
  "language_info": {
   "codemirror_mode": {
    "name": "ipython",
    "version": 3
   },
   "file_extension": ".py",
   "mimetype": "text/x-python",
   "name": "python",
   "nbconvert_exporter": "python",
   "pygments_lexer": "ipython3",
   "version": "3.10.6"
  },
  "orig_nbformat": 4
 },
 "nbformat": 4,
 "nbformat_minor": 2
}
