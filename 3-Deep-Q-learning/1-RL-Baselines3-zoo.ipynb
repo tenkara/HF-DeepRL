{
 "cells": [
  {
   "cell_type": "markdown",
   "metadata": {},
   "source": [
    "# Unit 3: Deep Q-Learning with Atari Games 👾 using RL Baselines3 Zoo\n",
    "\n",
    "<img src=\"https://huggingface.co/datasets/huggingface-deep-rl-course/course-images/resolve/main/en/unit4/thumbnail.jpg\" alt=\"Unit 3 Thumbnail\">\n",
    "\n",
    "In this notebook, **you'll train a Deep Q-Learning agent** playing Space Invaders using [RL Baselines3 Zoo](https://github.com/DLR-RM/rl-baselines3-zoo), a training framework based on [Stable-Baselines3](https://stable-baselines3.readthedocs.io/en/master/) that provides scripts for training, evaluating agents, tuning hyperparameters, plotting results and recording videos.\n",
    "\n",
    "We're using the [RL-Baselines-3 Zoo integration, a vanilla version of Deep Q-Learning](https://stable-baselines3.readthedocs.io/en/master/modules/dqn.html) with no extensions such as Double-DQN, Dueling-DQN, and Prioritized Experience Replay.\n",
    "\n",
    "⬇️ Here is an example of what **you will achieve** ⬇️"
   ]
  },
  {
   "cell_type": "code",
   "execution_count": 1,
   "metadata": {},
   "outputs": [
    {
     "data": {
      "text/html": [
       "<video controls autoplay><source src=\"https://huggingface.co/ThomasSimonini/ppo-SpaceInvadersNoFrameskip-v4/resolve/main/replay.mp4\" type=\"video/mp4\"></video>\n"
      ],
      "text/plain": [
       "<IPython.core.display.HTML object>"
      ]
     },
     "metadata": {},
     "output_type": "display_data"
    }
   ],
   "source": [
    "%%html\n",
    "<video controls autoplay><source src=\"https://huggingface.co/ThomasSimonini/ppo-SpaceInvadersNoFrameskip-v4/resolve/main/replay.mp4\" type=\"video/mp4\"></video>"
   ]
  },
  {
   "attachments": {},
   "cell_type": "markdown",
   "metadata": {},
   "source": [
    "### 🎮 Environments: \n",
    "\n",
    "- [SpacesInvadersNoFrameskip-v4](https://gymnasium.farama.org/environments/atari/space_invaders/)\n",
    "\n",
    "You can see the difference between Space Invaders versions here 👉 https://gymnasium.farama.org/environments/atari/space_invaders/#variants\n",
    "\n",
    "### 📚 RL-Library: \n",
    "\n",
    "- [RL-Baselines3-Zoo](https://github.com/DLR-RM/rl-baselines3-zoo)"
   ]
  },
  {
   "attachments": {},
   "cell_type": "markdown",
   "metadata": {},
   "source": [
    "## Objectives of this notebook 🏆\n",
    "At the end of the notebook, you will:\n",
    "- Be able to understand deeper **how RL Baselines3 Zoo works**.\n",
    "- Be able to **push your trained agent and the code to the Hub** with a nice video replay and an evaluation score 🔥.\n",
    "\n",
    "\n"
   ]
  },
  {
   "attachments": {},
   "cell_type": "markdown",
   "metadata": {},
   "source": [
    "# Install RL-Baselines3 Zoo and its dependencies 📚\n",
    "\n",
    "If you see `ERROR: pip's dependency resolver does not currently take into account all the packages that are installed.` **this is normal and it's not a critical error** there's a conflict of version. But the packages we need are installed."
   ]
  },
  {
   "cell_type": "code",
   "execution_count": 2,
   "metadata": {},
   "outputs": [
    {
     "name": "stdout",
     "output_type": "stream",
     "text": [
      "Collecting git+https://github.com/DLR-RM/rl-baselines3-zoo@update/hf\n",
      "  Cloning https://github.com/DLR-RM/rl-baselines3-zoo (to revision update/hf) to /tmp/pip-req-build-585zdt97\n",
      "  Running command git clone --filter=blob:none --quiet https://github.com/DLR-RM/rl-baselines3-zoo /tmp/pip-req-build-585zdt97\n",
      "  Running command git checkout -b update/hf --track origin/update/hf\n",
      "  Switched to a new branch 'update/hf'\n",
      "  Branch 'update/hf' set up to track remote branch 'update/hf' from 'origin'.\n",
      "  Resolved https://github.com/DLR-RM/rl-baselines3-zoo to commit 7dcbff7e74e7a12c052452181ff353a4dbed313a\n",
      "  Running command git submodule update --init --recursive -q\n",
      "  Installing build dependencies ... \u001b[?25ldone\n",
      "\u001b[?25h  Getting requirements to build wheel ... \u001b[?25ldone\n",
      "\u001b[?25h  Preparing metadata (pyproject.toml) ... \u001b[?25ldone\n",
      "\u001b[?25hCollecting sb3-contrib>=2.0.0a9\n",
      "  Downloading sb3_contrib-2.0.0-py3-none-any.whl (80 kB)\n",
      "\u001b[2K     \u001b[90m━━━━━━━━━━━━━━━━━━━━━━━━━━━━━━━━━━━━━━━━\u001b[0m \u001b[32m80.3/80.3 KB\u001b[0m \u001b[31m2.5 MB/s\u001b[0m eta \u001b[36m0:00:00\u001b[0m\n",
      "\u001b[?25hCollecting pytablewriter~=0.64\n",
      "  Downloading pytablewriter-0.64.2-py3-none-any.whl (106 kB)\n",
      "\u001b[2K     \u001b[90m━━━━━━━━━━━━━━━━━━━━━━━━━━━━━━━━━━━━━━━\u001b[0m \u001b[32m106.6/106.6 KB\u001b[0m \u001b[31m6.7 MB/s\u001b[0m eta \u001b[36m0:00:00\u001b[0m\n",
      "\u001b[?25hCollecting rich\n",
      "  Downloading rich-13.4.2-py3-none-any.whl (239 kB)\n",
      "\u001b[2K     \u001b[90m━━━━━━━━━━━━━━━━━━━━━━━━━━━━━━━━━━━━━━━\u001b[0m \u001b[32m239.4/239.4 KB\u001b[0m \u001b[31m9.4 MB/s\u001b[0m eta \u001b[36m0:00:00\u001b[0m\n",
      "\u001b[?25hRequirement already satisfied: huggingface-sb3>=2.2.1 in /home/raj/repos/HF-DeepRL/.venv/lib/python3.10/site-packages (from rl-zoo3==2.0.0a9) (2.2.5)\n",
      "Requirement already satisfied: tqdm in /home/raj/repos/HF-DeepRL/.venv/lib/python3.10/site-packages (from rl-zoo3==2.0.0a9) (4.65.0)\n",
      "Requirement already satisfied: pyyaml>=5.1 in /home/raj/repos/HF-DeepRL/.venv/lib/python3.10/site-packages (from rl-zoo3==2.0.0a9) (6.0)\n",
      "Requirement already satisfied: gym==0.26.2 in /home/raj/repos/HF-DeepRL/.venv/lib/python3.10/site-packages (from rl-zoo3==2.0.0a9) (0.26.2)\n",
      "Collecting optuna\n",
      "  Downloading optuna-3.2.0-py3-none-any.whl (390 kB)\n",
      "\u001b[2K     \u001b[90m━━━━━━━━━━━━━━━━━━━━━━━━━━━━━━━━━━━━━━\u001b[0m \u001b[32m390.6/390.6 KB\u001b[0m \u001b[31m10.2 MB/s\u001b[0m eta \u001b[36m0:00:00\u001b[0m00:01\u001b[0m\n",
      "\u001b[?25hRequirement already satisfied: numpy>=1.18.0 in /home/raj/repos/HF-DeepRL/.venv/lib/python3.10/site-packages (from gym==0.26.2->rl-zoo3==2.0.0a9) (1.21.2)\n",
      "Requirement already satisfied: gym-notices>=0.0.4 in /home/raj/repos/HF-DeepRL/.venv/lib/python3.10/site-packages (from gym==0.26.2->rl-zoo3==2.0.0a9) (0.0.8)\n",
      "Requirement already satisfied: cloudpickle>=1.2.0 in /home/raj/repos/HF-DeepRL/.venv/lib/python3.10/site-packages (from gym==0.26.2->rl-zoo3==2.0.0a9) (2.2.1)\n",
      "Requirement already satisfied: wasabi in /home/raj/repos/HF-DeepRL/.venv/lib/python3.10/site-packages (from huggingface-sb3>=2.2.1->rl-zoo3==2.0.0a9) (1.1.2)\n",
      "Requirement already satisfied: huggingface-hub~=0.8 in /home/raj/repos/HF-DeepRL/.venv/lib/python3.10/site-packages (from huggingface-sb3>=2.2.1->rl-zoo3==2.0.0a9) (0.15.1)\n",
      "Collecting mbstrdecoder<2,>=1.0.0\n",
      "  Downloading mbstrdecoder-1.1.3-py3-none-any.whl (7.8 kB)\n",
      "Collecting DataProperty<2,>=0.55.0\n",
      "  Downloading DataProperty-1.0.0-py3-none-any.whl (27 kB)\n",
      "Collecting pathvalidate<3,>=2.3.0\n",
      "  Downloading pathvalidate-2.5.2-py3-none-any.whl (20 kB)\n",
      "Collecting tabledata<2,>=1.3.0\n",
      "  Downloading tabledata-1.3.1-py3-none-any.whl (11 kB)\n",
      "Collecting typepy[datetime]<2,>=1.2.0\n",
      "  Downloading typepy-1.3.1-py3-none-any.whl (31 kB)\n",
      "Collecting tcolorpy<1,>=0.0.5\n",
      "  Downloading tcolorpy-0.1.3-py3-none-any.whl (7.9 kB)\n",
      "Requirement already satisfied: setuptools>=38.3.0 in /home/raj/repos/HF-DeepRL/.venv/lib/python3.10/site-packages (from pytablewriter~=0.64->rl-zoo3==2.0.0a9) (59.6.0)\n",
      "Collecting stable-baselines3>=2.0.0\n",
      "  Downloading stable_baselines3-2.0.0-py3-none-any.whl (178 kB)\n",
      "\u001b[2K     \u001b[90m━━━━━━━━━━━━━━━━━━━━━━━━━━━━━━━━━━━━━━━\u001b[0m \u001b[32m178.4/178.4 KB\u001b[0m \u001b[31m8.1 MB/s\u001b[0m eta \u001b[36m0:00:00\u001b[0m\n",
      "\u001b[?25hCollecting alembic>=1.5.0\n",
      "  Downloading alembic-1.11.1-py3-none-any.whl (224 kB)\n",
      "\u001b[2K     \u001b[90m━━━━━━━━━━━━━━━━━━━━━━━━━━━━━━━━━━━━━━━\u001b[0m \u001b[32m224.5/224.5 KB\u001b[0m \u001b[31m9.6 MB/s\u001b[0m eta \u001b[36m0:00:00\u001b[0m\n",
      "\u001b[?25hCollecting cmaes>=0.9.1\n",
      "  Downloading cmaes-0.9.1-py3-none-any.whl (21 kB)\n",
      "Collecting sqlalchemy>=1.3.0\n",
      "  Downloading SQLAlchemy-2.0.17-cp310-cp310-manylinux_2_17_x86_64.manylinux2014_x86_64.whl (2.7 MB)\n",
      "\u001b[2K     \u001b[90m━━━━━━━━━━━━━━━━━━━━━━━━━━━━━━━━━━━━━━━━\u001b[0m \u001b[32m2.7/2.7 MB\u001b[0m \u001b[31m11.2 MB/s\u001b[0m eta \u001b[36m0:00:00\u001b[0m00:01\u001b[0m00:01\u001b[0m\n",
      "\u001b[?25hRequirement already satisfied: packaging>=20.0 in /home/raj/repos/HF-DeepRL/.venv/lib/python3.10/site-packages (from optuna->rl-zoo3==2.0.0a9) (23.1)\n",
      "Collecting colorlog\n",
      "  Downloading colorlog-6.7.0-py2.py3-none-any.whl (11 kB)\n",
      "Collecting markdown-it-py>=2.2.0\n",
      "  Downloading markdown_it_py-3.0.0-py3-none-any.whl (87 kB)\n",
      "\u001b[2K     \u001b[90m━━━━━━━━━━━━━━━━━━━━━━━━━━━━━━━━━━━━━━━━\u001b[0m \u001b[32m87.5/87.5 KB\u001b[0m \u001b[31m7.3 MB/s\u001b[0m eta \u001b[36m0:00:00\u001b[0m\n",
      "\u001b[?25hRequirement already satisfied: pygments<3.0.0,>=2.13.0 in /home/raj/repos/HF-DeepRL/.venv/lib/python3.10/site-packages (from rich->rl-zoo3==2.0.0a9) (2.15.1)\n",
      "Requirement already satisfied: typing-extensions>=4 in /home/raj/repos/HF-DeepRL/.venv/lib/python3.10/site-packages (from alembic>=1.5.0->optuna->rl-zoo3==2.0.0a9) (4.7.0)\n",
      "Collecting Mako\n",
      "  Downloading Mako-1.2.4-py3-none-any.whl (78 kB)\n",
      "\u001b[2K     \u001b[90m━━━━━━━━━━━━━━━━━━━━━━━━━━━━━━━━━━━━━━━━\u001b[0m \u001b[32m78.7/78.7 KB\u001b[0m \u001b[31m7.1 MB/s\u001b[0m eta \u001b[36m0:00:00\u001b[0m\n",
      "\u001b[?25hRequirement already satisfied: fsspec in /home/raj/repos/HF-DeepRL/.venv/lib/python3.10/site-packages (from huggingface-hub~=0.8->huggingface-sb3>=2.2.1->rl-zoo3==2.0.0a9) (2023.6.0)\n",
      "Requirement already satisfied: requests in /home/raj/repos/HF-DeepRL/.venv/lib/python3.10/site-packages (from huggingface-hub~=0.8->huggingface-sb3>=2.2.1->rl-zoo3==2.0.0a9) (2.31.0)\n",
      "Requirement already satisfied: filelock in /home/raj/repos/HF-DeepRL/.venv/lib/python3.10/site-packages (from huggingface-hub~=0.8->huggingface-sb3>=2.2.1->rl-zoo3==2.0.0a9) (3.12.2)\n",
      "Collecting mdurl~=0.1\n",
      "  Downloading mdurl-0.1.2-py3-none-any.whl (10.0 kB)\n",
      "Collecting chardet<6,>=3.0.4\n",
      "  Downloading chardet-5.1.0-py3-none-any.whl (199 kB)\n",
      "\u001b[2K     \u001b[90m━━━━━━━━━━━━━━━━━━━━━━━━━━━━━━━━━━━━━━━\u001b[0m \u001b[32m199.1/199.1 KB\u001b[0m \u001b[31m8.4 MB/s\u001b[0m eta \u001b[36m0:00:00\u001b[0m\n",
      "\u001b[?25hCollecting greenlet!=0.4.17\n",
      "  Downloading greenlet-2.0.2-cp310-cp310-manylinux_2_17_x86_64.manylinux2014_x86_64.whl (613 kB)\n",
      "\u001b[2K     \u001b[90m━━━━━━━━━━━━━━━━━━━━━━━━━━━━━━━━━━━━━━\u001b[0m \u001b[32m613.7/613.7 KB\u001b[0m \u001b[31m10.2 MB/s\u001b[0m eta \u001b[36m0:00:00\u001b[0ma \u001b[36m0:00:01\u001b[0m\n",
      "\u001b[?25hRequirement already satisfied: pandas in /home/raj/repos/HF-DeepRL/.venv/lib/python3.10/site-packages (from stable-baselines3>=2.0.0->sb3-contrib>=2.0.0a9->rl-zoo3==2.0.0a9) (2.0.3)\n",
      "Requirement already satisfied: matplotlib in /home/raj/repos/HF-DeepRL/.venv/lib/python3.10/site-packages (from stable-baselines3>=2.0.0->sb3-contrib>=2.0.0a9->rl-zoo3==2.0.0a9) (3.7.1)\n",
      "Requirement already satisfied: torch>=1.11 in /home/raj/repos/HF-DeepRL/.venv/lib/python3.10/site-packages (from stable-baselines3>=2.0.0->sb3-contrib>=2.0.0a9->rl-zoo3==2.0.0a9) (1.11.0+cu113)\n",
      "Requirement already satisfied: gymnasium==0.28.1 in /home/raj/repos/HF-DeepRL/.venv/lib/python3.10/site-packages (from stable-baselines3>=2.0.0->sb3-contrib>=2.0.0a9->rl-zoo3==2.0.0a9) (0.28.1)\n",
      "Requirement already satisfied: farama-notifications>=0.0.1 in /home/raj/repos/HF-DeepRL/.venv/lib/python3.10/site-packages (from gymnasium==0.28.1->stable-baselines3>=2.0.0->sb3-contrib>=2.0.0a9->rl-zoo3==2.0.0a9) (0.0.4)\n",
      "Requirement already satisfied: jax-jumpy>=1.0.0 in /home/raj/repos/HF-DeepRL/.venv/lib/python3.10/site-packages (from gymnasium==0.28.1->stable-baselines3>=2.0.0->sb3-contrib>=2.0.0a9->rl-zoo3==2.0.0a9) (1.0.0)\n",
      "Requirement already satisfied: python-dateutil<3.0.0,>=2.8.0 in /home/raj/repos/HF-DeepRL/.venv/lib/python3.10/site-packages (from typepy[datetime]<2,>=1.2.0->pytablewriter~=0.64->rl-zoo3==2.0.0a9) (2.8.2)\n",
      "Requirement already satisfied: pytz>=2018.9 in /home/raj/repos/HF-DeepRL/.venv/lib/python3.10/site-packages (from typepy[datetime]<2,>=1.2.0->pytablewriter~=0.64->rl-zoo3==2.0.0a9) (2023.3)\n",
      "Requirement already satisfied: six>=1.5 in /home/raj/repos/HF-DeepRL/.venv/lib/python3.10/site-packages (from python-dateutil<3.0.0,>=2.8.0->typepy[datetime]<2,>=1.2.0->pytablewriter~=0.64->rl-zoo3==2.0.0a9) (1.16.0)\n",
      "Requirement already satisfied: MarkupSafe>=0.9.2 in /home/raj/repos/HF-DeepRL/.venv/lib/python3.10/site-packages (from Mako->alembic>=1.5.0->optuna->rl-zoo3==2.0.0a9) (2.1.3)\n",
      "Requirement already satisfied: fonttools>=4.22.0 in /home/raj/repos/HF-DeepRL/.venv/lib/python3.10/site-packages (from matplotlib->stable-baselines3>=2.0.0->sb3-contrib>=2.0.0a9->rl-zoo3==2.0.0a9) (4.40.0)\n",
      "Requirement already satisfied: cycler>=0.10 in /home/raj/repos/HF-DeepRL/.venv/lib/python3.10/site-packages (from matplotlib->stable-baselines3>=2.0.0->sb3-contrib>=2.0.0a9->rl-zoo3==2.0.0a9) (0.11.0)\n",
      "Requirement already satisfied: kiwisolver>=1.0.1 in /home/raj/repos/HF-DeepRL/.venv/lib/python3.10/site-packages (from matplotlib->stable-baselines3>=2.0.0->sb3-contrib>=2.0.0a9->rl-zoo3==2.0.0a9) (1.4.4)\n",
      "Requirement already satisfied: contourpy>=1.0.1 in /home/raj/repos/HF-DeepRL/.venv/lib/python3.10/site-packages (from matplotlib->stable-baselines3>=2.0.0->sb3-contrib>=2.0.0a9->rl-zoo3==2.0.0a9) (1.1.0)\n",
      "Requirement already satisfied: pyparsing>=2.3.1 in /home/raj/repos/HF-DeepRL/.venv/lib/python3.10/site-packages (from matplotlib->stable-baselines3>=2.0.0->sb3-contrib>=2.0.0a9->rl-zoo3==2.0.0a9) (3.1.0)\n",
      "Requirement already satisfied: pillow>=6.2.0 in /home/raj/repos/HF-DeepRL/.venv/lib/python3.10/site-packages (from matplotlib->stable-baselines3>=2.0.0->sb3-contrib>=2.0.0a9->rl-zoo3==2.0.0a9) (10.0.0)\n",
      "Requirement already satisfied: tzdata>=2022.1 in /home/raj/repos/HF-DeepRL/.venv/lib/python3.10/site-packages (from pandas->stable-baselines3>=2.0.0->sb3-contrib>=2.0.0a9->rl-zoo3==2.0.0a9) (2023.3)\n",
      "Requirement already satisfied: certifi>=2017.4.17 in /home/raj/repos/HF-DeepRL/.venv/lib/python3.10/site-packages (from requests->huggingface-hub~=0.8->huggingface-sb3>=2.2.1->rl-zoo3==2.0.0a9) (2023.5.7)\n",
      "Requirement already satisfied: idna<4,>=2.5 in /home/raj/repos/HF-DeepRL/.venv/lib/python3.10/site-packages (from requests->huggingface-hub~=0.8->huggingface-sb3>=2.2.1->rl-zoo3==2.0.0a9) (3.4)\n",
      "Requirement already satisfied: charset-normalizer<4,>=2 in /home/raj/repos/HF-DeepRL/.venv/lib/python3.10/site-packages (from requests->huggingface-hub~=0.8->huggingface-sb3>=2.2.1->rl-zoo3==2.0.0a9) (3.1.0)\n",
      "Requirement already satisfied: urllib3<3,>=1.21.1 in /home/raj/repos/HF-DeepRL/.venv/lib/python3.10/site-packages (from requests->huggingface-hub~=0.8->huggingface-sb3>=2.2.1->rl-zoo3==2.0.0a9) (1.26.16)\n",
      "Building wheels for collected packages: rl-zoo3\n",
      "  Building wheel for rl-zoo3 (pyproject.toml) ... \u001b[?25ldone\n",
      "\u001b[?25h  Created wheel for rl-zoo3: filename=rl_zoo3-2.0.0a9-py3-none-any.whl size=76411 sha256=68ec0867f60e669897cc4323af8e86b2b1a565960ab909f26a3c14be4fea2e3a\n",
      "  Stored in directory: /tmp/pip-ephem-wheel-cache-reoux3yk/wheels/fc/36/d5/2ef574649d85327de098075c8523da50be2612f3e5807261f7\n",
      "Successfully built rl-zoo3\n",
      "Installing collected packages: tcolorpy, pathvalidate, mdurl, Mako, greenlet, colorlog, cmaes, chardet, sqlalchemy, mbstrdecoder, markdown-it-py, typepy, stable-baselines3, rich, alembic, sb3-contrib, optuna, DataProperty, tabledata, pytablewriter, rl-zoo3\n",
      "  Attempting uninstall: stable-baselines3\n",
      "    Found existing installation: stable-baselines3 2.0.0a5\n",
      "    Uninstalling stable-baselines3-2.0.0a5:\n",
      "      Successfully uninstalled stable-baselines3-2.0.0a5\n",
      "Successfully installed DataProperty-1.0.0 Mako-1.2.4 alembic-1.11.1 chardet-5.1.0 cmaes-0.9.1 colorlog-6.7.0 greenlet-2.0.2 markdown-it-py-3.0.0 mbstrdecoder-1.1.3 mdurl-0.1.2 optuna-3.2.0 pathvalidate-2.5.2 pytablewriter-0.64.2 rich-13.4.2 rl-zoo3-2.0.0a9 sb3-contrib-2.0.0 sqlalchemy-2.0.17 stable-baselines3-2.0.0 tabledata-1.3.1 tcolorpy-0.1.3 typepy-1.3.1\n"
     ]
    }
   ],
   "source": [
    "# For now we install this update of RL-Baselines3 Zoo\n",
    "!pip install git+https://github.com/DLR-RM/rl-baselines3-zoo@update/hf"
   ]
  },
  {
   "attachments": {},
   "cell_type": "markdown",
   "metadata": {},
   "source": [
    "To be able to use Atari games in Gymnasium we need to install atari package. And accept-rom-license to download the rom files (games files)."
   ]
  },
  {
   "cell_type": "code",
   "execution_count": 3,
   "metadata": {},
   "outputs": [
    {
     "name": "stdout",
     "output_type": "stream",
     "text": [
      "Requirement already satisfied: gymnasium[atari] in /home/raj/repos/HF-DeepRL/.venv/lib/python3.10/site-packages (0.28.1)\n",
      "Requirement already satisfied: typing-extensions>=4.3.0 in /home/raj/repos/HF-DeepRL/.venv/lib/python3.10/site-packages (from gymnasium[atari]) (4.7.0)\n",
      "Requirement already satisfied: numpy>=1.21.0 in /home/raj/repos/HF-DeepRL/.venv/lib/python3.10/site-packages (from gymnasium[atari]) (1.21.2)\n",
      "Requirement already satisfied: cloudpickle>=1.2.0 in /home/raj/repos/HF-DeepRL/.venv/lib/python3.10/site-packages (from gymnasium[atari]) (2.2.1)\n",
      "Requirement already satisfied: farama-notifications>=0.0.1 in /home/raj/repos/HF-DeepRL/.venv/lib/python3.10/site-packages (from gymnasium[atari]) (0.0.4)\n",
      "Requirement already satisfied: jax-jumpy>=1.0.0 in /home/raj/repos/HF-DeepRL/.venv/lib/python3.10/site-packages (from gymnasium[atari]) (1.0.0)\n",
      "Collecting shimmy[atari]<1.0,>=0.1.0\n",
      "  Downloading Shimmy-0.2.1-py3-none-any.whl (25 kB)\n",
      "Collecting ale-py~=0.8.1\n",
      "  Downloading ale_py-0.8.1-cp310-cp310-manylinux_2_17_x86_64.manylinux2014_x86_64.whl (1.7 MB)\n",
      "\u001b[2K     \u001b[90m━━━━━━━━━━━━━━━━━━━━━━━━━━━━━━━━━━━━━━━━\u001b[0m \u001b[32m1.7/1.7 MB\u001b[0m \u001b[31m9.7 MB/s\u001b[0m eta \u001b[36m0:00:00\u001b[0m:00:01\u001b[0m0:01\u001b[0m\n",
      "\u001b[?25hCollecting importlib-resources\n",
      "  Downloading importlib_resources-5.12.0-py3-none-any.whl (36 kB)\n",
      "Installing collected packages: importlib-resources, ale-py, shimmy\n",
      "Successfully installed ale-py-0.8.1 importlib-resources-5.12.0 shimmy-0.2.1\n",
      "Requirement already satisfied: gymnasium[accept-rom-license] in /home/raj/repos/HF-DeepRL/.venv/lib/python3.10/site-packages (0.28.1)\n",
      "Requirement already satisfied: typing-extensions>=4.3.0 in /home/raj/repos/HF-DeepRL/.venv/lib/python3.10/site-packages (from gymnasium[accept-rom-license]) (4.7.0)\n",
      "Requirement already satisfied: numpy>=1.21.0 in /home/raj/repos/HF-DeepRL/.venv/lib/python3.10/site-packages (from gymnasium[accept-rom-license]) (1.21.2)\n",
      "Requirement already satisfied: farama-notifications>=0.0.1 in /home/raj/repos/HF-DeepRL/.venv/lib/python3.10/site-packages (from gymnasium[accept-rom-license]) (0.0.4)\n",
      "Requirement already satisfied: jax-jumpy>=1.0.0 in /home/raj/repos/HF-DeepRL/.venv/lib/python3.10/site-packages (from gymnasium[accept-rom-license]) (1.0.0)\n",
      "Requirement already satisfied: cloudpickle>=1.2.0 in /home/raj/repos/HF-DeepRL/.venv/lib/python3.10/site-packages (from gymnasium[accept-rom-license]) (2.2.1)\n",
      "Collecting autorom[accept-rom-license]~=0.4.2\n",
      "  Downloading AutoROM-0.4.2-py3-none-any.whl (16 kB)\n",
      "Requirement already satisfied: requests in /home/raj/repos/HF-DeepRL/.venv/lib/python3.10/site-packages (from autorom[accept-rom-license]~=0.4.2->gymnasium[accept-rom-license]) (2.31.0)\n",
      "Requirement already satisfied: tqdm in /home/raj/repos/HF-DeepRL/.venv/lib/python3.10/site-packages (from autorom[accept-rom-license]~=0.4.2->gymnasium[accept-rom-license]) (4.65.0)\n",
      "Collecting click\n",
      "  Downloading click-8.1.3-py3-none-any.whl (96 kB)\n",
      "\u001b[2K     \u001b[90m━━━━━━━━━━━━━━━━━━━━━━━━━━━━━━━━━━━━━━━━\u001b[0m \u001b[32m96.6/96.6 KB\u001b[0m \u001b[31m3.2 MB/s\u001b[0m eta \u001b[36m0:00:00\u001b[0m\n",
      "\u001b[?25hCollecting AutoROM.accept-rom-license\n",
      "  Downloading AutoROM.accept-rom-license-0.6.1.tar.gz (434 kB)\n",
      "\u001b[2K     \u001b[90m━━━━━━━━━━━━━━━━━━━━━━━━━━━━━━━━━━━━━━━\u001b[0m \u001b[32m434.7/434.7 KB\u001b[0m \u001b[31m9.7 MB/s\u001b[0m eta \u001b[36m0:00:00\u001b[0ma \u001b[36m0:00:01\u001b[0m\n",
      "\u001b[?25h  Installing build dependencies ... \u001b[?25ldone\n",
      "\u001b[?25h  Getting requirements to build wheel ... \u001b[?25ldone\n",
      "\u001b[?25h  Preparing metadata (pyproject.toml) ... \u001b[?25ldone\n",
      "\u001b[?25hRequirement already satisfied: certifi>=2017.4.17 in /home/raj/repos/HF-DeepRL/.venv/lib/python3.10/site-packages (from requests->autorom[accept-rom-license]~=0.4.2->gymnasium[accept-rom-license]) (2023.5.7)\n",
      "Requirement already satisfied: urllib3<3,>=1.21.1 in /home/raj/repos/HF-DeepRL/.venv/lib/python3.10/site-packages (from requests->autorom[accept-rom-license]~=0.4.2->gymnasium[accept-rom-license]) (1.26.16)\n",
      "Requirement already satisfied: charset-normalizer<4,>=2 in /home/raj/repos/HF-DeepRL/.venv/lib/python3.10/site-packages (from requests->autorom[accept-rom-license]~=0.4.2->gymnasium[accept-rom-license]) (3.1.0)\n",
      "Requirement already satisfied: idna<4,>=2.5 in /home/raj/repos/HF-DeepRL/.venv/lib/python3.10/site-packages (from requests->autorom[accept-rom-license]~=0.4.2->gymnasium[accept-rom-license]) (3.4)\n",
      "Building wheels for collected packages: AutoROM.accept-rom-license\n",
      "  Building wheel for AutoROM.accept-rom-license (pyproject.toml) ... \u001b[?25ldone\n",
      "\u001b[?25h  Created wheel for AutoROM.accept-rom-license: filename=AutoROM.accept_rom_license-0.6.1-py3-none-any.whl size=446660 sha256=23d3ad8f1752367824ae14b7bbafa55676030f0fd7e5a89d9b2c8bab1abc1b2f\n",
      "  Stored in directory: /home/raj/.cache/pip/wheels/6b/1b/ef/a43ff1a2f1736d5711faa1ba4c1f61be1131b8899e6a057811\n",
      "Successfully built AutoROM.accept-rom-license\n",
      "Installing collected packages: click, AutoROM.accept-rom-license, autorom\n",
      "Successfully installed AutoROM.accept-rom-license-0.6.1 autorom-0.4.2 click-8.1.3\n"
     ]
    }
   ],
   "source": [
    "!pip install gymnasium[atari]\n",
    "!pip install gymnasium[accept-rom-license]"
   ]
  },
  {
   "attachments": {},
   "cell_type": "markdown",
   "metadata": {},
   "source": [
    "## Create a virtual display 🔽\n",
    "\n",
    "During the notebook, we'll need to generate a replay video. To do so, with colab, **we need to have a virtual screen to be able to render the environment** (and thus record the frames). \n",
    "\n",
    "Hence the following cell will install the librairies and create and run a virtual screen 🖥"
   ]
  },
  {
   "cell_type": "code",
   "execution_count": 4,
   "metadata": {},
   "outputs": [],
   "source": [
    "%%capture\n",
    "!apt install python-opengl\n",
    "!apt install ffmpeg\n",
    "!apt install xvfb\n",
    "!pip3 install pyvirtualdisplay"
   ]
  },
  {
   "cell_type": "code",
   "execution_count": 5,
   "metadata": {},
   "outputs": [
    {
     "data": {
      "text/plain": [
       "<pyvirtualdisplay.display.Display at 0x7f707f4eeaa0>"
      ]
     },
     "execution_count": 5,
     "metadata": {},
     "output_type": "execute_result"
    }
   ],
   "source": [
    "# Virtual display\n",
    "from pyvirtualdisplay import Display\n",
    "\n",
    "virtual_display = Display(visible=0, size=(1400, 900))\n",
    "virtual_display.start()"
   ]
  },
  {
   "attachments": {},
   "cell_type": "markdown",
   "metadata": {},
   "source": [
    "## Train our Deep Q-Learning Agent to Play Space Invaders 👾\n",
    "\n",
    "To train an agent with RL-Baselines3-Zoo, we just need to do two things:\n",
    "\n",
    "1. Create a hyperparameter config file that will contain our training hyperparameters called `dqn.yml`.\n",
    "\n",
    "This is a template example:\n",
    "\n",
    "```\n",
    "SpaceInvadersNoFrameskip-v4:\n",
    "  env_wrapper:\n",
    "    - stable_baselines3.common.atari_wrappers.AtariWrapper\n",
    "  frame_stack: 4\n",
    "  policy: 'CnnPolicy'\n",
    "  n_timesteps: !!float 1e7\n",
    "  buffer_size: 100000\n",
    "  learning_rate: !!float 1e-4\n",
    "  batch_size: 32\n",
    "  learning_starts: 100000\n",
    "  target_update_interval: 1000\n",
    "  train_freq: 4\n",
    "  gradient_steps: 1\n",
    "  exploration_fraction: 0.1\n",
    "  exploration_final_eps: 0.01\n",
    "  # If True, you need to deactivate handle_timeout_termination\n",
    "  # in the replay_buffer_kwargs\n",
    "  optimize_memory_usage: False\n",
    "```"
   ]
  },
  {
   "cell_type": "markdown",
   "metadata": {},
   "source": []
  }
 ],
 "metadata": {
  "kernelspec": {
   "display_name": ".venv",
   "language": "python",
   "name": "python3"
  },
  "language_info": {
   "codemirror_mode": {
    "name": "ipython",
    "version": 3
   },
   "file_extension": ".py",
   "mimetype": "text/x-python",
   "name": "python",
   "nbconvert_exporter": "python",
   "pygments_lexer": "ipython3",
   "version": "3.10.6"
  },
  "orig_nbformat": 4
 },
 "nbformat": 4,
 "nbformat_minor": 2
}
